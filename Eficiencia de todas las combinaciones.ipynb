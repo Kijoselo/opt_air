{
 "cells": [
  {
   "cell_type": "code",
   "execution_count": 2,
   "metadata": {},
   "outputs": [
    {
     "name": "stdout",
     "output_type": "stream",
     "text": [
      "Requirement already satisfied: sympy in c:\\users\\juan\\appdata\\local\\packages\\pythonsoftwarefoundation.python.3.11_qbz5n2kfra8p0\\localcache\\local-packages\\python311\\site-packages (1.12)\n",
      "Requirement already satisfied: mpmath>=0.19 in c:\\users\\juan\\appdata\\local\\packages\\pythonsoftwarefoundation.python.3.11_qbz5n2kfra8p0\\localcache\\local-packages\\python311\\site-packages (from sympy) (1.3.0)\n",
      "Note: you may need to restart the kernel to use updated packages.\n"
     ]
    },
    {
     "name": "stderr",
     "output_type": "stream",
     "text": [
      "\n",
      "[notice] A new release of pip is available: 23.2.1 -> 23.3.1\n",
      "[notice] To update, run: C:\\Users\\Juan\\AppData\\Local\\Microsoft\\WindowsApps\\PythonSoftwareFoundation.Python.3.11_qbz5n2kfra8p0\\python.exe -m pip install --upgrade pip\n"
     ]
    }
   ],
   "source": [
    "%pip install sympy\n"
   ]
  },
  {
   "attachments": {},
   "cell_type": "markdown",
   "metadata": {},
   "source": [
    "<h2>Importación</h2>"
   ]
  },
  {
   "cell_type": "code",
   "execution_count": 3,
   "metadata": {},
   "outputs": [],
   "source": [
    "import numpy as np\n",
    "import psutil\n",
    "import math\n",
    "from scipy.optimize import dual_annealing\n",
    "import sympy\n",
    "import subprocess\n",
    "import glob\n",
    "from queue import PriorityQueue\n",
    "import re\n",
    "import os \n",
    "import matplotlib.pyplot as plt\n",
    "from scipy.optimize import fsolve"
   ]
  },
  {
   "attachments": {},
   "cell_type": "markdown",
   "metadata": {},
   "source": [
    "<h1>->Optimización de silueta NACA 2411 </h>"
   ]
  },
  {
   "attachments": {},
   "cell_type": "markdown",
   "metadata": {},
   "source": [
    "<h2>1. Ingreso de coordenadas [x,y] para extrados e intrados</h2>"
   ]
  },
  {
   "attachments": {},
   "cell_type": "markdown",
   "metadata": {},
   "source": [
    "Nota: Se elimino el valor de conexión entre extrados e intrados [0,0]"
   ]
  },
  {
   "attachments": {},
   "cell_type": "markdown",
   "metadata": {},
   "source": [
    "-> Extrados"
   ]
  },
  {
   "cell_type": "code",
   "execution_count": 4,
   "metadata": {},
   "outputs": [
    {
     "name": "stdout",
     "output_type": "stream",
     "text": [
      " xe \t  ye\n",
      "1.000 \t 0.000\n",
      "0.934 \t 0.014\n",
      "0.705 \t 0.052\n",
      "0.448 \t 0.076\n",
      "0.162 \t 0.067\n",
      "0.022 \t 0.027\n"
     ]
    }
   ],
   "source": [
    "xe=[1,0.93365,0.70475,0.44807,0.16175,0.0217]\n",
    "ye=[0,0.0138,0.05158,0.07606,0.06659,0.02654]\n",
    "print(\" xe\",\"\\t\",\" ye\")\n",
    "matrix_length = len(xe)\n",
    "for i in range(matrix_length):\n",
    "    print(f\"{xe[i]:.3f}\",\"\\t\",f\"{ye[i]:.3f}\") "
   ]
  },
  {
   "attachments": {},
   "cell_type": "markdown",
   "metadata": {},
   "source": [
    "-> Intrados"
   ]
  },
  {
   "cell_type": "code",
   "execution_count": 36,
   "metadata": {},
   "outputs": [
    {
     "name": "stdout",
     "output_type": "stream",
     "text": [
      " xi \t  yi\n",
      "0.027 \t -0.021\n",
      "0.169 \t -0.034\n",
      "0.447 \t -0.026\n",
      "0.702 \t -0.014\n",
      "0.932 \t -0.003\n",
      "1.000 \t 0.000\n"
     ]
    }
   ],
   "source": [
    "xi=[0.02723,0.16912,0.4474,0.70198,0.93238,1]\n",
    "yi=[-0.02061,-0.03379,-0.02637,-0.01436,-0.00326,0]\n",
    "print(\" xi\",\"\\t\",\" yi\")\n",
    "matrix_length = len(xi)\n",
    "for i in range(matrix_length):\n",
    "    print(f\"{xi[i]:.3f}\",\"\\t\",f\"{yi[i]:.3f}\") "
   ]
  },
  {
   "attachments": {},
   "cell_type": "markdown",
   "metadata": {},
   "source": [
    "<h2>2. Sistema de ecuaciones para encontrar los coeficientes \"a\" del extrados e intrados</h2>"
   ]
  },
  {
   "attachments": {},
   "cell_type": "markdown",
   "metadata": {},
   "source": [
    "->Extrados"
   ]
  },
  {
   "cell_type": "code",
   "execution_count": 6,
   "metadata": {},
   "outputs": [
    {
     "name": "stdout",
     "output_type": "stream",
     "text": [
      "[ 0.18119909 -0.03827758 -0.44364229  0.56525658 -0.33368452  0.06914872]\n"
     ]
    }
   ],
   "source": [
    "A = np.array([[pow(xe[j], i + 0.5) for i in range(0, 6)] for j in range(0, 6)])\n",
    "b = np.array(ye)\n",
    "sol_e = np.linalg.solve(A, b)\n",
    "print(sol_e)\n"
   ]
  },
  {
   "attachments": {},
   "cell_type": "markdown",
   "metadata": {},
   "source": [
    "-> Intrados"
   ]
  },
  {
   "cell_type": "code",
   "execution_count": 7,
   "metadata": {},
   "outputs": [
    {
     "name": "stdout",
     "output_type": "stream",
     "text": [
      "[-0.13611831  0.4344056  -0.85017457  1.121429   -0.79950799  0.22996628]\n"
     ]
    }
   ],
   "source": [
    "A = np.array([[pow(xi[j], i + 0.5) for i in range(0, 6)] for j in range(0, 6)])\n",
    "b = np.array(yi)\n",
    "sol_i = np.linalg.solve(A, b)\n",
    "print(sol_i)"
   ]
  },
  {
   "attachments": {},
   "cell_type": "markdown",
   "metadata": {},
   "source": [
    "<h2>NOTA: aquí se verifican los resultados posteriores para y\"emáx, y\"imin, x_emax & x_imin"
   ]
  },
  {
   "attachments": {},
   "cell_type": "markdown",
   "metadata": {},
   "source": [
    "-> Calcular X_emax \n"
   ]
  },
  {
   "cell_type": "code",
   "execution_count": 8,
   "metadata": {},
   "outputs": [
    {
     "name": "stdout",
     "output_type": "stream",
     "text": [
      "x_eemax= 0.34680341970639106\n"
     ]
    },
    {
     "data": {
      "text/latex": [
       "$\\displaystyle 0.181199087377223 xee^{0.5} - 0.0382775785098312 xee^{1.5} - 0.443642286251962 xee^{2.5} + 0.565256575196749 xee^{3.5} - 0.333684515802732 xee^{4.5} + 0.0691487179905537 xee^{5.5}$"
      ],
      "text/plain": [
       "0.181199087377223*xee**0.5 - 0.0382775785098312*xee**1.5 - 0.443642286251962*xee**2.5 + 0.565256575196749*xee**3.5 - 0.333684515802732*xee**4.5 + 0.0691487179905537*xee**5.5"
      ]
     },
     "metadata": {},
     "output_type": "display_data"
    }
   ],
   "source": [
    "xee = sympy.symbols('xee')\n",
    "fe = sum(sol_e[i]*xee**(i + 0.5) for i in range(0, 6))\n",
    "\n",
    "dy = sympy.diff(fe, xee)\n",
    "\n",
    "sol = sympy.solve(dy, xee)\n",
    "\n",
    "def is_sol(xee):\n",
    "    if sympy.im(xee) != 0:\n",
    "        return False\n",
    "    if xee < 0 or xee > 1:\n",
    "        return False\n",
    "    return True\n",
    "\n",
    "x_eemax =float([xee for xee in sol if is_sol(xee)][0])\n",
    "print(\"x_eemax=\",x_eemax)\n",
    "display(fe)"
   ]
  },
  {
   "cell_type": "code",
   "execution_count": 9,
   "metadata": {},
   "outputs": [
    {
     "name": "stdout",
     "output_type": "stream",
     "text": [
      "0.00000 \t 0.00000\n",
      "0.00200 \t -0.00605\n",
      "0.00400 \t -0.00850\n",
      "0.00600 \t -0.01034\n",
      "0.00800 \t -0.01187\n",
      "0.01000 \t -0.01319\n",
      "0.01200 \t -0.01435\n",
      "0.01400 \t -0.01541\n",
      "0.01600 \t -0.01637\n",
      "0.01800 \t -0.01725\n",
      "0.02000 \t -0.01807\n",
      "0.02200 \t -0.01883\n",
      "0.02400 \t -0.01955\n",
      "0.02600 \t -0.02022\n",
      "0.02800 \t -0.02085\n",
      "0.03000 \t -0.02145\n",
      "0.03200 \t -0.02201\n",
      "0.03400 \t -0.02255\n",
      "0.03600 \t -0.02306\n",
      "0.03800 \t -0.02354\n",
      "0.04000 \t -0.02401\n",
      "0.04200 \t -0.02445\n",
      "0.04400 \t -0.02487\n",
      "0.04600 \t -0.02527\n",
      "0.04800 \t -0.02566\n",
      "0.05000 \t -0.02603\n",
      "0.05200 \t -0.02638\n",
      "0.05400 \t -0.02672\n",
      "0.05600 \t -0.02704\n",
      "0.05800 \t -0.02735\n",
      "0.06000 \t -0.02765\n",
      "0.06200 \t -0.02794\n",
      "0.06400 \t -0.02821\n",
      "0.06600 \t -0.02848\n",
      "0.06800 \t -0.02873\n",
      "0.07000 \t -0.02897\n",
      "0.07200 \t -0.02921\n",
      "0.07400 \t -0.02943\n",
      "0.07600 \t -0.02965\n",
      "0.07800 \t -0.02986\n",
      "0.08000 \t -0.03006\n",
      "0.08200 \t -0.03025\n",
      "0.08400 \t -0.03043\n",
      "0.08600 \t -0.03061\n",
      "0.08800 \t -0.03078\n",
      "0.09000 \t -0.03094\n",
      "0.09200 \t -0.03110\n",
      "0.09400 \t -0.03125\n",
      "0.09600 \t -0.03139\n",
      "0.09800 \t -0.03153\n",
      "0.10000 \t -0.03167\n",
      "0.14000 \t -0.03337\n",
      "0.18000 \t -0.03383\n",
      "0.22000 \t -0.03354\n",
      "0.26000 \t -0.03279\n",
      "0.30000 \t -0.03174\n",
      "0.34000 \t -0.03047\n",
      "0.38000 \t -0.02905\n",
      "0.42000 \t -0.02750\n",
      "0.46000 \t -0.02584\n",
      "0.50000 \t -0.02409\n",
      "0.54000 \t -0.02226\n",
      "0.58000 \t -0.02036\n",
      "0.62000 \t -0.01842\n",
      "0.66000 \t -0.01645\n",
      "0.70000 \t -0.01446\n",
      "0.74000 \t -0.01247\n",
      "0.78000 \t -0.01051\n",
      "0.82000 \t -0.00857\n",
      "0.86000 \t -0.00666\n",
      "0.90000 \t -0.00478\n",
      "0.90200 \t -0.00469\n",
      "0.90400 \t -0.00459\n",
      "0.90600 \t -0.00450\n",
      "0.90800 \t -0.00440\n",
      "0.91000 \t -0.00431\n",
      "0.91200 \t -0.00422\n",
      "0.91400 \t -0.00412\n",
      "0.91600 \t -0.00403\n",
      "0.91800 \t -0.00394\n",
      "0.92000 \t -0.00384\n",
      "0.92200 \t -0.00375\n",
      "0.92400 \t -0.00365\n",
      "0.92600 \t -0.00356\n",
      "0.92800 \t -0.00347\n",
      "0.93000 \t -0.00337\n",
      "0.93200 \t -0.00328\n",
      "0.93400 \t -0.00318\n",
      "0.93600 \t -0.00309\n",
      "0.93800 \t -0.00300\n",
      "0.94000 \t -0.00290\n",
      "0.94200 \t -0.00281\n",
      "0.94400 \t -0.00271\n",
      "0.94600 \t -0.00262\n",
      "0.94800 \t -0.00252\n",
      "0.95000 \t -0.00243\n",
      "0.95200 \t -0.00233\n",
      "0.95400 \t -0.00224\n",
      "0.95600 \t -0.00214\n",
      "0.95800 \t -0.00205\n",
      "0.96000 \t -0.00195\n",
      "0.96200 \t -0.00186\n",
      "0.96400 \t -0.00176\n",
      "0.96600 \t -0.00166\n",
      "0.96800 \t -0.00157\n",
      "0.97000 \t -0.00147\n",
      "0.97200 \t -0.00138\n",
      "0.97400 \t -0.00128\n",
      "0.97600 \t -0.00118\n",
      "0.97800 \t -0.00109\n",
      "0.98000 \t -0.00099\n",
      "0.98200 \t -0.00089\n",
      "0.98400 \t -0.00079\n",
      "0.98600 \t -0.00069\n",
      "0.98800 \t -0.00060\n",
      "0.99000 \t -0.00050\n",
      "0.99200 \t -0.00040\n",
      "0.99400 \t -0.00030\n",
      "0.99600 \t -0.00020\n",
      "0.99800 \t -0.00010\n"
     ]
    }
   ],
   "source": [
    "w = 0 \n",
    "while w <= 0.1:\n",
    "    ff = sum(sol_i[i]*w**(i + 0.5) for i in range(0, 6))\n",
    "    print(f\"{w:.5f}\",\"\\t\",f\"{ff:.5f}\") \n",
    "    w += 0.002\n",
    "\n",
    "while w <= 0.9:\n",
    "    ff = sum(sol_i[i]*w**(i + 0.5) for i in range(0, 6))\n",
    "    print(f\"{w:.5f}\",\"\\t\",f\"{ff:.5f}\") \n",
    "    w += 0.04\n",
    "while w <= 1:\n",
    "    ff = sum(sol_i[i]*w**(i + 0.5) for i in range(0, 6))\n",
    "    print(f\"{w:.5f}\",\"\\t\",f\"{ff:.5f}\") \n",
    "    w += 0.002"
   ]
  },
  {
   "cell_type": "code",
   "execution_count": 10,
   "metadata": {},
   "outputs": [
    {
     "name": "stdout",
     "output_type": "stream",
     "text": [
      "1.00000 \t 0.00000\n",
      "0.99800 \t 0.00044\n",
      "0.99600 \t 0.00087\n",
      "0.99400 \t 0.00131\n",
      "0.99200 \t 0.00174\n",
      "0.99000 \t 0.00217\n",
      "0.98800 \t 0.00260\n",
      "0.98600 \t 0.00303\n",
      "0.98400 \t 0.00346\n",
      "0.98200 \t 0.00388\n",
      "0.98000 \t 0.00431\n",
      "0.97800 \t 0.00473\n",
      "0.97600 \t 0.00516\n",
      "0.97400 \t 0.00558\n",
      "0.97200 \t 0.00600\n",
      "0.97000 \t 0.00641\n",
      "0.96800 \t 0.00683\n",
      "0.96600 \t 0.00725\n",
      "0.96400 \t 0.00766\n",
      "0.96200 \t 0.00808\n",
      "0.96000 \t 0.00849\n",
      "0.95800 \t 0.00890\n",
      "0.95600 \t 0.00931\n",
      "0.95400 \t 0.00972\n",
      "0.95200 \t 0.01012\n",
      "0.95000 \t 0.01053\n",
      "0.94800 \t 0.01093\n",
      "0.94600 \t 0.01134\n",
      "0.94400 \t 0.01174\n",
      "0.94200 \t 0.01214\n",
      "0.94000 \t 0.01254\n",
      "0.93800 \t 0.01294\n",
      "0.93600 \t 0.01333\n",
      "0.93400 \t 0.01373\n",
      "0.93200 \t 0.01413\n",
      "0.93000 \t 0.01452\n",
      "0.92800 \t 0.01491\n",
      "0.92600 \t 0.01530\n",
      "0.92400 \t 0.01569\n",
      "0.92200 \t 0.01608\n",
      "0.92000 \t 0.01647\n",
      "0.91800 \t 0.01685\n",
      "0.91600 \t 0.01724\n",
      "0.91400 \t 0.01762\n",
      "0.91200 \t 0.01801\n",
      "0.91000 \t 0.01839\n",
      "0.90800 \t 0.01877\n",
      "0.90600 \t 0.01915\n",
      "0.90400 \t 0.01952\n",
      "0.90200 \t 0.01990\n",
      "0.90000 \t 0.02028\n",
      "0.86000 \t 0.02754\n",
      "0.82000 \t 0.03436\n",
      "0.78000 \t 0.04074\n",
      "0.74000 \t 0.04669\n",
      "0.70000 \t 0.05221\n",
      "0.66000 \t 0.05731\n",
      "0.62000 \t 0.06195\n",
      "0.58000 \t 0.06612\n",
      "0.54000 \t 0.06979\n",
      "0.50000 \t 0.07291\n",
      "0.46000 \t 0.07543\n",
      "0.42000 \t 0.07729\n",
      "0.38000 \t 0.07841\n",
      "0.34000 \t 0.07870\n",
      "0.30000 \t 0.07806\n",
      "0.26000 \t 0.07636\n",
      "0.22000 \t 0.07344\n",
      "0.18000 \t 0.06911\n",
      "0.14000 \t 0.06307\n",
      "0.10000 \t 0.05486\n",
      "0.09800 \t 0.05437\n",
      "0.09600 \t 0.05388\n",
      "0.09400 \t 0.05339\n",
      "0.09200 \t 0.05288\n",
      "0.09000 \t 0.05237\n",
      "0.08800 \t 0.05184\n",
      "0.08600 \t 0.05131\n",
      "0.08400 \t 0.05077\n",
      "0.08200 \t 0.05022\n",
      "0.08000 \t 0.04966\n",
      "0.07800 \t 0.04909\n",
      "0.07600 \t 0.04851\n",
      "0.07400 \t 0.04792\n",
      "0.07200 \t 0.04732\n",
      "0.07000 \t 0.04671\n",
      "0.06800 \t 0.04608\n",
      "0.06600 \t 0.04545\n",
      "0.06400 \t 0.04480\n",
      "0.06200 \t 0.04413\n",
      "0.06000 \t 0.04346\n",
      "0.05800 \t 0.04277\n",
      "0.05600 \t 0.04207\n",
      "0.05400 \t 0.04135\n",
      "0.05200 \t 0.04061\n",
      "0.05000 \t 0.03986\n",
      "0.04800 \t 0.03909\n",
      "0.04600 \t 0.03830\n",
      "0.04400 \t 0.03749\n",
      "0.04200 \t 0.03665\n",
      "0.04000 \t 0.03580\n",
      "0.03800 \t 0.03492\n",
      "0.03600 \t 0.03401\n",
      "0.03400 \t 0.03308\n",
      "0.03200 \t 0.03212\n",
      "0.03000 \t 0.03112\n",
      "0.02800 \t 0.03008\n",
      "0.02600 \t 0.02901\n",
      "0.02400 \t 0.02789\n",
      "0.02200 \t 0.02672\n",
      "0.02000 \t 0.02549\n",
      "0.01800 \t 0.02420\n",
      "0.01600 \t 0.02283\n",
      "0.01400 \t 0.02137\n",
      "0.01200 \t 0.01979\n",
      "0.01000 \t 0.01808\n",
      "0.00800 \t 0.01618\n",
      "0.00600 \t 0.01402\n",
      "0.00400 \t 0.01145\n",
      "0.00200 \t 0.00810\n"
     ]
    }
   ],
   "source": [
    "w = 1\n",
    "while w >= 0.9:\n",
    "    ff = sum(sol_e[i]*w**(i + 0.5) for i in range(0, 6))\n",
    "    print(f\"{w:.5f}\",\"\\t\",f\"{ff:.5f}\") \n",
    "    w -= 0.002\n",
    "\n",
    "while w >= 0.1:\n",
    "    ff = sum(sol_e[i]*w**(i + 0.5) for i in range(0, 6))\n",
    "    print(f\"{w:.5f}\",\"\\t\",f\"{ff:.5f}\") \n",
    "    w -= 0.04\n",
    "while w >= 0:\n",
    "    ff = sum(sol_e[i]*w**(i + 0.5) for i in range(0, 6))\n",
    "    print(f\"{w:.5f}\",\"\\t\",f\"{ff:.5f}\") \n",
    "    w -= 0.002\n"
   ]
  },
  {
   "attachments": {},
   "cell_type": "markdown",
   "metadata": {},
   "source": [
    "-> Calcular X_imax "
   ]
  },
  {
   "cell_type": "code",
   "execution_count": 11,
   "metadata": {},
   "outputs": [
    {
     "name": "stdout",
     "output_type": "stream",
     "text": [
      "x_imin= 0.18148093926360492\n"
     ]
    },
    {
     "data": {
      "text/latex": [
       "$\\displaystyle - 0.136118311290176 xii^{0.5} + 0.434405596661239 xii^{1.5} - 0.850174573481454 xii^{2.5} + 1.121429001834 xii^{3.5} - 0.799507992115835 xii^{4.5} + 0.229966278392231 xii^{5.5}$"
      ],
      "text/plain": [
       "-0.136118311290176*xii**0.5 + 0.434405596661239*xii**1.5 - 0.850174573481454*xii**2.5 + 1.121429001834*xii**3.5 - 0.799507992115835*xii**4.5 + 0.229966278392231*xii**5.5"
      ]
     },
     "metadata": {},
     "output_type": "display_data"
    }
   ],
   "source": [
    "xii = sympy.symbols('xii')\n",
    "fi = sum(sol_i[i]*xii**(i + 0.5) for i in range(0, 6))\n",
    "\n",
    "dy = sympy.diff(fi, xii)\n",
    "\n",
    "sol = sympy.solve(dy, xii)\n",
    "\n",
    "def is_sol(xii):\n",
    "    if sympy.im(xii) != 0:\n",
    "        return False\n",
    "    if xii < 0 or xii > 1:\n",
    "        return False\n",
    "    return True\n",
    "\n",
    "x_imin = float([xii for xii in sol if is_sol(xii)][0])\n",
    "print(\"x_imin=\",x_imin)\n",
    "display(fi)\n",
    "\n"
   ]
  },
  {
   "attachments": {},
   "cell_type": "markdown",
   "metadata": {},
   "source": [
    "<h2>3. Calculo de los parametros del perfil original"
   ]
  },
  {
   "attachments": {},
   "cell_type": "markdown",
   "metadata": {},
   "source": [
    "-> Variables simbolicas, no son numeros. Se crean para desarrollar el sistema de ecuaciones"
   ]
  },
  {
   "cell_type": "code",
   "execution_count": 12,
   "metadata": {},
   "outputs": [],
   "source": [
    "y_emax, y_imax, alpha, beta, y_bs, deltay_bs, x_emax, x_imax, dy_emax, dy_imax, r_ba=sympy.symbols(\"y_emax, y_imax, alpha, beta, y_bs, deltay_bs, x_emax,x_imax, dy_emax, dy_imax, r_ba\")"
   ]
  },
  {
   "attachments": {},
   "cell_type": "markdown",
   "metadata": {},
   "source": [
    "->Los valores de ae & ai se vuelven simbolicos para emplearlo en el sistema (Iteradores)"
   ]
  },
  {
   "cell_type": "code",
   "execution_count": 13,
   "metadata": {},
   "outputs": [],
   "source": [
    "ae=sympy.symbols(\"ae:6\")\n",
    "ai=sympy.symbols(\"ai:6\")\n",
    "k=sympy.symbols(\"k\",integer=True)\n"
   ]
  },
  {
   "attachments": {},
   "cell_type": "markdown",
   "metadata": {},
   "source": [
    "-> Ecuaciones a resolver"
   ]
  },
  {
   "cell_type": "code",
   "execution_count": 59,
   "metadata": {},
   "outputs": [],
   "source": [
    "eq1=sympy.sqrt(2*r_ba)-ae[0]\n",
    "#extrados\n",
    "eq2 =sum([ae[k-1]*pow(x_emax, k-0.5) for k in range(1, 7)])-y_emax\n",
    "eq3=sum([(k-0.5)*ae[k-1]*pow(x_emax, k-1.5) for k in range(1, 7)])\n",
    "eq4=sum([(k-1.5)*(k-0.5)*ae[k-1]*pow(x_emax, k-2.5) for k in range(1, 7)])-dy_emax\n",
    "eq5=sum([ae[k-1] for k in range(1, 7)])-y_bs-0.5*deltay_bs    #ybs+deltaybs esto tiene que ser 0 porque se encuentra la punta cerrada y conectada en el eje x\n",
    "eq6=sum([(k-0.5)*ae[k-1] for k in range(1, 7)])-sympy.tan((2*alpha-beta)/2)\n",
    "#intrados \n",
    "eq7=sum([ai[k-1]*pow(x_imax, k-0.5) for k in range(1, 7)])-y_imax\n",
    "eq8=sum([(k-0.5)*ai[k-1]*pow(x_imax, k-1.5) for k in range(1, 7)])\n",
    "eq9=sum([(k-1.5)*(k-0.5)*ai[k-1]*pow(x_imax, k-2.5) for k in range(1, 7)])-dy_imax\n",
    "eq10=sum([ai[k-1] for k in range(1, 7)])-y_bs-0.5*deltay_bs   #ybs+deltaybs esto tiene que ser 0 porque se encuentra la punta cerrada y conectada en el eje x\n",
    "eq11=sum([(k-0.5)*ai[k-1] for k in range(1, 7)])-sympy.tan((2*alpha+beta)/2)\n",
    "#Fueron igualadas a 0 para crear el sistema de solución con ayuda de sympy"
   ]
  },
  {
   "attachments": {},
   "cell_type": "markdown",
   "metadata": {},
   "source": [
    "-> Impresión y verificación "
   ]
  },
  {
   "cell_type": "code",
   "execution_count": 60,
   "metadata": {},
   "outputs": [
    {
     "data": {
      "text/latex": [
       "$\\displaystyle - ae_{0} + \\sqrt{2} \\sqrt{r_{ba}}$"
      ],
      "text/plain": [
       "-ae0 + sqrt(2)*sqrt(r_ba)"
      ]
     },
     "metadata": {},
     "output_type": "display_data"
    },
    {
     "data": {
      "text/latex": [
       "$\\displaystyle ae_{0} x_{emax}^{0.5} + ae_{1} x_{emax}^{1.5} + ae_{2} x_{emax}^{2.5} + ae_{3} x_{emax}^{3.5} + ae_{4} x_{emax}^{4.5} + ae_{5} x_{emax}^{5.5} - y_{emax}$"
      ],
      "text/plain": [
       "ae0*x_emax**0.5 + ae1*x_emax**1.5 + ae2*x_emax**2.5 + ae3*x_emax**3.5 + ae4*x_emax**4.5 + ae5*x_emax**5.5 - y_emax"
      ]
     },
     "metadata": {},
     "output_type": "display_data"
    },
    {
     "data": {
      "text/latex": [
       "$\\displaystyle \\frac{0.5 ae_{0}}{x_{emax}^{0.5}} + 1.5 ae_{1} x_{emax}^{0.5} + 2.5 ae_{2} x_{emax}^{1.5} + 3.5 ae_{3} x_{emax}^{2.5} + 4.5 ae_{4} x_{emax}^{3.5} + 5.5 ae_{5} x_{emax}^{4.5}$"
      ],
      "text/plain": [
       "0.5*ae0/x_emax**0.5 + 1.5*ae1*x_emax**0.5 + 2.5*ae2*x_emax**1.5 + 3.5*ae3*x_emax**2.5 + 4.5*ae4*x_emax**3.5 + 5.5*ae5*x_emax**4.5"
      ]
     },
     "metadata": {},
     "output_type": "display_data"
    },
    {
     "data": {
      "text/latex": [
       "$\\displaystyle - \\frac{0.25 ae_{0}}{x_{emax}^{1.5}} + \\frac{0.75 ae_{1}}{x_{emax}^{0.5}} + 3.75 ae_{2} x_{emax}^{0.5} + 8.75 ae_{3} x_{emax}^{1.5} + 15.75 ae_{4} x_{emax}^{2.5} + 24.75 ae_{5} x_{emax}^{3.5} - dy_{emax}$"
      ],
      "text/plain": [
       "-0.25*ae0/x_emax**1.5 + 0.75*ae1/x_emax**0.5 + 3.75*ae2*x_emax**0.5 + 8.75*ae3*x_emax**1.5 + 15.75*ae4*x_emax**2.5 + 24.75*ae5*x_emax**3.5 - dy_emax"
      ]
     },
     "metadata": {},
     "output_type": "display_data"
    },
    {
     "data": {
      "text/latex": [
       "$\\displaystyle ae_{0} + ae_{1} + ae_{2} + ae_{3} + ae_{4} + ae_{5} - 0.5 deltay_{bs} - y_{bs}$"
      ],
      "text/plain": [
       "ae0 + ae1 + ae2 + ae3 + ae4 + ae5 - 0.5*deltay_bs - y_bs"
      ]
     },
     "metadata": {},
     "output_type": "display_data"
    },
    {
     "data": {
      "text/latex": [
       "$\\displaystyle 0.5 ae_{0} + 1.5 ae_{1} + 2.5 ae_{2} + 3.5 ae_{3} + 4.5 ae_{4} + 5.5 ae_{5} - \\tan{\\left(\\alpha - \\frac{\\beta}{2} \\right)}$"
      ],
      "text/plain": [
       "0.5*ae0 + 1.5*ae1 + 2.5*ae2 + 3.5*ae3 + 4.5*ae4 + 5.5*ae5 - tan(alpha - beta/2)"
      ]
     },
     "metadata": {},
     "output_type": "display_data"
    },
    {
     "data": {
      "text/latex": [
       "$\\displaystyle ai_{0} x_{imax}^{0.5} + ai_{1} x_{imax}^{1.5} + ai_{2} x_{imax}^{2.5} + ai_{3} x_{imax}^{3.5} + ai_{4} x_{imax}^{4.5} + ai_{5} x_{imax}^{5.5} - y_{imax}$"
      ],
      "text/plain": [
       "ai0*x_imax**0.5 + ai1*x_imax**1.5 + ai2*x_imax**2.5 + ai3*x_imax**3.5 + ai4*x_imax**4.5 + ai5*x_imax**5.5 - y_imax"
      ]
     },
     "metadata": {},
     "output_type": "display_data"
    },
    {
     "data": {
      "text/latex": [
       "$\\displaystyle \\frac{0.5 ai_{0}}{x_{imax}^{0.5}} + 1.5 ai_{1} x_{imax}^{0.5} + 2.5 ai_{2} x_{imax}^{1.5} + 3.5 ai_{3} x_{imax}^{2.5} + 4.5 ai_{4} x_{imax}^{3.5} + 5.5 ai_{5} x_{imax}^{4.5}$"
      ],
      "text/plain": [
       "0.5*ai0/x_imax**0.5 + 1.5*ai1*x_imax**0.5 + 2.5*ai2*x_imax**1.5 + 3.5*ai3*x_imax**2.5 + 4.5*ai4*x_imax**3.5 + 5.5*ai5*x_imax**4.5"
      ]
     },
     "metadata": {},
     "output_type": "display_data"
    },
    {
     "data": {
      "text/latex": [
       "$\\displaystyle - \\frac{0.25 ai_{0}}{x_{imax}^{1.5}} + \\frac{0.75 ai_{1}}{x_{imax}^{0.5}} + 3.75 ai_{2} x_{imax}^{0.5} + 8.75 ai_{3} x_{imax}^{1.5} + 15.75 ai_{4} x_{imax}^{2.5} + 24.75 ai_{5} x_{imax}^{3.5} - dy_{imax}$"
      ],
      "text/plain": [
       "-0.25*ai0/x_imax**1.5 + 0.75*ai1/x_imax**0.5 + 3.75*ai2*x_imax**0.5 + 8.75*ai3*x_imax**1.5 + 15.75*ai4*x_imax**2.5 + 24.75*ai5*x_imax**3.5 - dy_imax"
      ]
     },
     "metadata": {},
     "output_type": "display_data"
    },
    {
     "data": {
      "text/latex": [
       "$\\displaystyle ai_{0} + ai_{1} + ai_{2} + ai_{3} + ai_{4} + ai_{5} - 0.5 deltay_{bs} - y_{bs}$"
      ],
      "text/plain": [
       "ai0 + ai1 + ai2 + ai3 + ai4 + ai5 - 0.5*deltay_bs - y_bs"
      ]
     },
     "metadata": {},
     "output_type": "display_data"
    },
    {
     "data": {
      "text/latex": [
       "$\\displaystyle 0.5 ai_{0} + 1.5 ai_{1} + 2.5 ai_{2} + 3.5 ai_{3} + 4.5 ai_{4} + 5.5 ai_{5} - \\tan{\\left(\\alpha + \\frac{\\beta}{2} \\right)}$"
      ],
      "text/plain": [
       "0.5*ai0 + 1.5*ai1 + 2.5*ai2 + 3.5*ai3 + 4.5*ai4 + 5.5*ai5 - tan(alpha + beta/2)"
      ]
     },
     "metadata": {},
     "output_type": "display_data"
    }
   ],
   "source": [
    "display(eq1)\n",
    "display(eq2)\n",
    "display(eq3)\n",
    "display(eq4)\n",
    "display(eq5)\n",
    "display(eq6)\n",
    "display(eq7)\n",
    "display(eq8)\n",
    "display(eq9)\n",
    "display(eq10)\n",
    "display(eq11)"
   ]
  },
  {
   "attachments": {},
   "cell_type": "markdown",
   "metadata": {},
   "source": [
    "<h2>->Simplificación con suposición"
   ]
  },
  {
   "cell_type": "code",
   "execution_count": 62,
   "metadata": {},
   "outputs": [
    {
     "data": {
      "text/latex": [
       "$\\displaystyle \\sqrt{2} \\sqrt{r_{ba}} - 0.181199087377223$"
      ],
      "text/plain": [
       "sqrt(2)*sqrt(r_ba) - 0.181199087377223"
      ]
     },
     "metadata": {},
     "output_type": "display_data"
    },
    {
     "data": {
      "text/latex": [
       "$\\displaystyle 0.0787145471829201 - y_{emax}$"
      ],
      "text/plain": [
       "0.0787145471829201 - y_emax"
      ]
     },
     "metadata": {},
     "output_type": "display_data"
    },
    {
     "data": {
      "text/latex": [
       "$\\displaystyle - dy_{emax} - 0.570351882471961$"
      ],
      "text/plain": [
       "-dy_emax - 0.570351882471961"
      ]
     },
     "metadata": {},
     "output_type": "display_data"
    },
    {
     "data": {
      "text/latex": [
       "$\\displaystyle - \\tan{\\left(\\alpha - \\frac{\\beta}{2} \\right)} - 0.218786898681669$"
      ],
      "text/plain": [
       "-tan(alpha - beta/2) - 0.218786898681669"
      ]
     },
     "metadata": {},
     "output_type": "display_data"
    },
    {
     "data": {
      "text/latex": [
       "$\\displaystyle - y_{imax} - 0.0338256308100106$"
      ],
      "text/plain": [
       "-y_imax - 0.0338256308100106"
      ]
     },
     "metadata": {},
     "output_type": "display_data"
    },
    {
     "data": {
      "text/latex": [
       "$\\displaystyle 0.443214182932013 - dy_{imax}$"
      ],
      "text/plain": [
       "0.443214182932013 - dy_imax"
      ]
     },
     "metadata": {},
     "output_type": "display_data"
    },
    {
     "data": {
      "text/latex": [
       "$\\displaystyle 0.0501428786981304 - \\tan{\\left(\\alpha + \\frac{\\beta}{2} \\right)}$"
      ],
      "text/plain": [
       "0.0501428786981304 - tan(alpha + beta/2)"
      ]
     },
     "metadata": {},
     "output_type": "display_data"
    }
   ],
   "source": [
    "eq=[eq1, eq2,  eq4 , eq6, eq7, eq9, eq11] #Se crea un grupo para todas las ecuaciones, NOTA SE ELIMINA 3,5,8, 10 PORQUE VALEN 0!!!!\n",
    "for i in range(len(eq)):\n",
    "    for j in range(len(sol_e)):\n",
    "        eq[i]=eq[i].subs(ae[j],sol_e[j])\n",
    "    for j in range(len(sol_i)):\n",
    "        eq[i]=eq[i].subs(ai[j],sol_i[j])\n",
    "    eq[i]=eq[i].subs({ 'x_emax':x_eemax, 'x_imax':x_imin, 'deltay_bs':0, 'y_bs':0 }) #con derivadas se determina rapidamente estos valores para ayudar al solver\n",
    "\n",
    "for e in eq:\n",
    "    display(e) #todo esta igualado a cero"
   ]
  },
  {
   "attachments": {},
   "cell_type": "markdown",
   "metadata": {},
   "source": [
    "<h2>->Solver </h2>"
   ]
  },
  {
   "cell_type": "code",
   "execution_count": 63,
   "metadata": {},
   "outputs": [],
   "source": [
    "def sistema_ecuaciones(x):\n",
    "    eqv = list(map(lambda eq: float(eq.subs({  #programación funcional \n",
    "       'r_ba': x[0],\n",
    "       'y_emax': x[1],\n",
    "       'dy_emax': x[2],\n",
    "       'alpha': x[3],\n",
    "       'y_imax':x[4],\n",
    "       'beta':x[5],\n",
    "       'dy_imax': x[6]\n",
    "       \n",
    "    })),eq))\n",
    "\n",
    "    return eqv\n"
   ]
  },
  {
   "attachments": {},
   "cell_type": "markdown",
   "metadata": {},
   "source": [
    "-> Se crean variables cero para permitir a Python resolver de forma lineal, con esto, se logra emplear el solver de \"fsolve\""
   ]
  },
  {
   "cell_type": "code",
   "execution_count": 64,
   "metadata": {},
   "outputs": [
    {
     "name": "stdout",
     "output_type": "stream",
     "text": [
      "Soluciones aproximadas:\n",
      "0.016417\n",
      "0.078715\n",
      "-0.570352\n",
      "-0.082646\n",
      "-0.033826\n",
      "0.265494\n",
      "0.443214\n"
     ]
    }
   ],
   "source": [
    "# Valores iniciales para las variables\n",
    "x0 = np.zeros(len(eq))\n",
    "\n",
    "# Resolver el sistema de ecuaciones\n",
    "solucion = fsolve(sistema_ecuaciones, x0)\n",
    "\n",
    "# Mostrar las soluciones aproximadas\n",
    "print(\"Soluciones aproximadas:\")\n",
    "for i in solucion:\n",
    "  print(\"%.6f\" % i)\n"
   ]
  },
  {
   "cell_type": "code",
   "execution_count": 65,
   "metadata": {},
   "outputs": [],
   "source": [
    "sol=np.array([*solucion]) #sprad operador de esparcir \n"
   ]
  },
  {
   "attachments": {},
   "cell_type": "markdown",
   "metadata": {},
   "source": [
    "<h2>4. Calculo de los parametros de los perfiles variados "
   ]
  },
  {
   "cell_type": "code",
   "execution_count": 20,
   "metadata": {},
   "outputs": [],
   "source": [
    "def evalue_combi(i,j,k):\n",
    "    i, j, k = i / 100, j/100, k/100\n",
    "    sol[2]=solucion[2]*i\n",
    "    sol[3]=solucion[3]*j\n",
    "    sol[6]=solucion[6]*k\n",
    "    eq1=[1.0,0,0,0,0,0]\n",
    "    #extrados\n",
    "    eq2 =[pow(x_eemax, k-0.5) for k in range(1, 7)]\n",
    "    eq3=[(k-0.5)*pow(x_eemax, k-1.5) for k in range(1, 7)]\n",
    "    eq4=[(k-1.5)*(k-0.5)*pow(x_eemax, k-2.5) for k in range(1, 7)]\n",
    "    eq5=[1 for k in range(1, 7)]  #ybs+deltaybs esto tiene que ser 0 porque se encuentra la punta cerrada y conectada en el eje x\n",
    "    eq6=[(k-0.5) for k in range(1, 7)]\n",
    "    #intrados \n",
    "    eq7=[pow(x_imin, k-0.5) for k in range(1, 7)]\n",
    "    eq8=[(k-0.5)*pow(x_imin, k-1.5) for k in range(1, 7)]\n",
    "    eq9=[(k-1.5)*(k-0.5)*pow(x_imin, k-2.5) for k in range(1, 7)]\n",
    "    eq10=[1 for k in range(1, 7)] #ybs+deltaybs esto tiene que ser 0 porque se encuentra la punta cerrada y conectada en el eje x\n",
    "    eq11=[(k-0.5) for k in range(1, 7)]\n",
    "    eq12=[-1.0,0,0,0,0,0]\n",
    "\n",
    "    ve=[math.sqrt(2*sol[0]),sol[1],0,sol[2],0,math.tan((2*sol[3]-sol[5])/2)]\n",
    "    vi=[sol[4],0,sol[6],0,math.tan((2*sol[3]+sol[5])/2),math.sqrt(2*sol[0])]     \n",
    "    Ae=[eq1,eq2,eq3,eq4,eq5,eq6]\n",
    "    Ai=[eq7,eq8,eq9,eq10,eq11,eq12]\n",
    "    vi\n",
    "    sole=np.linalg.solve(Ae,ve)\n",
    "\n",
    "    soli=np.linalg.solve(Ai,vi)\n",
    "\n",
    "    return(sole, soli)"
   ]
  },
  {
   "attachments": {},
   "cell_type": "markdown",
   "metadata": {},
   "source": [
    "<h3>-> Declaración de las funciones de los nuevos perfiles"
   ]
  },
  {
   "cell_type": "code",
   "execution_count": 21,
   "metadata": {},
   "outputs": [],
   "source": [
    "def get_coord_combi(i,j,k):\n",
    "    sole,soli=evalue_combi(i,j,k)\n",
    "    xi = np.concatenate((\n",
    "    np.arange(0, 0.1, 0.002),\n",
    "    np.arange(0.1, 0.9, 0.04),\n",
    "    np.arange(0.9, 1, 0.002)\n",
    "))\n",
    "    \n",
    "    xe = np.concatenate((\n",
    "    np.arange(1, 0.9, -0.002),\n",
    "    np.arange(0.9, 0.1, -0.04),\n",
    "    np.arange(0.1, 0, -0.002)\n",
    "))\n",
    "    fee = sum(sole[i]*xi**(i + 0.5) for i in range(0, 6))\n",
    "    fii = sum(soli[i]*xi**(i + 0.5) for i in range(0, 6))\n",
    "    xx=[*xi,*xi]\n",
    "    yy=[*fee,*fii]\n",
    "    return(xx,yy)\n",
    "\n"
   ]
  },
  {
   "attachments": {},
   "cell_type": "markdown",
   "metadata": {},
   "source": [
    "Creación de las impresiones de los nuevos perfiles"
   ]
  },
  {
   "cell_type": "code",
   "execution_count": 22,
   "metadata": {},
   "outputs": [],
   "source": [
    "def plot_combi(i,j,k):\n",
    "    xx,yy=get_coord_combi(i,j,k)\n",
    "    plt.plot(xx,yy)\n"
   ]
  },
  {
   "attachments": {},
   "cell_type": "markdown",
   "metadata": {},
   "source": [
    "<h3>->Perfil base 2411"
   ]
  },
  {
   "cell_type": "code",
   "execution_count": 23,
   "metadata": {},
   "outputs": [
    {
     "data": {
      "image/png": "[encoded data removed]",
      "text/plain": [
       "<Figure size 2500x600 with 1 Axes>"
      ]
     },
     "metadata": {},
     "output_type": "display_data"
    }
   ],
   "source": [
    "plt.figure(figsize=(25,6))\n",
    "plot_combi(100,100,100)\n",
    "plot_combi(200,200,150)\n",
    "plot_combi(10,10,10)"
   ]
  },
  {
   "attachments": {},
   "cell_type": "markdown",
   "metadata": {},
   "source": [
    "<h3>->Impresión de varios perfiles"
   ]
  },
  {
   "cell_type": "code",
   "execution_count": 24,
   "metadata": {},
   "outputs": [],
   "source": [
    "#plt.figure(figsize=(25,6))\n",
    "#for i in range(10,200,5):\n",
    "#    for j in range(10,200,5):\n",
    "#        for k in range(10,140,5):\n",
    "#            plot_combi(i,j,k)"
   ]
  },
  {
   "attachments": {},
   "cell_type": "markdown",
   "metadata": {},
   "source": [
    "<h2>5. Creación de documentos para la simulación en Xfoil"
   ]
  },
  {
   "attachments": {},
   "cell_type": "markdown",
   "metadata": {},
   "source": [
    "Geometría del perfil"
   ]
  },
  {
   "cell_type": "code",
   "execution_count": 25,
   "metadata": {},
   "outputs": [],
   "source": [
    "def create_coord_file(xx,yy,fname):\n",
    "    test_result=\"\"\n",
    "    for i in range(len(xx)):\n",
    "        x=xx[i]\n",
    "        y=yy[i]\n",
    "        test_result += f\"{x:.5f}\" + (\" \"*(4 if y >= 0 else 3)) + f\"{y:.5f}\\n\"\n",
    "    test_result\n",
    "    file=open(fname + \".dat\",\"w\")\n",
    "    file.write(test_result)\n",
    "    file.close()"
   ]
  },
  {
   "attachments": {},
   "cell_type": "markdown",
   "metadata": {},
   "source": [
    "Datos de simulación que ingresan a Xfoil y creación de archivo \"resultados\""
   ]
  },
  {
   "cell_type": "code",
   "execution_count": 26,
   "metadata": {},
   "outputs": [],
   "source": [
    "def run_simulation(i,j,k,fname=None):\n",
    "    xx,yy=get_coord_combi(i,j,k)\n",
    "    if fname is None:\n",
    "        fname=f\"barrido06/sim_{i}_{j}_{k}\"\n",
    "    create_coord_file(xx,yy,fname)\n",
    "    strname = str(fname) + '.txt'\n",
    "    airfoil_name = fname\n",
    "    alpha_i = -17\n",
    "    alpha_f = 20\n",
    "    alpha_step = 0.25\n",
    "    Re = 1000000\n",
    "    n_iter = 100\n",
    "\n",
    "    # %% XFOIL input file writer \n",
    "\n",
    "    if os.path.exists(strname):\n",
    "        os.remove(strname)\n",
    "\n",
    "    input_file = open(fname+\".in\", 'w')\n",
    "    input_file.write(\"LOAD {0}.dat\\n\".format(airfoil_name))\n",
    "    input_file.write(airfoil_name + '\\n')\n",
    "    input_file.write(\"PANE\\n\")\n",
    "    input_file.write(\"OPER\\n\")\n",
    "    input_file.write(\"Visc {0}\\n\".format(Re))\n",
    "    input_file.write(\"PACC\\n\")\n",
    "    input_file.write(strname+\"\\n\\n \")\n",
    "    input_file.write(\"ITER {0}\\n\".format(n_iter))\n",
    "    input_file.write(\"ASeq {0} {1} {2}\\n\".format(alpha_i, alpha_f,\n",
    "                                                alpha_step))\n",
    "    input_file.write(\"\\n\\n\")\n",
    "    input_file.write(\"quit\\n\")\n",
    "    input_file.close()\n",
    "\n",
    "    process = subprocess.Popen(\"xfoil.exe < \" + fname + \".in\", shell=True)\n",
    "\n",
    "    try:\n",
    "        process.wait(timeout=60)\n",
    "    except subprocess.TimeoutExpired:\n",
    "        for child in psutil.Process(process.pid).children(recursive=True):\n",
    "            child.kill()\n",
    "        process.kill()\n",
    "\n",
    "        print(\"killed \" + fname + \" after timeout\")\n",
    "    "
   ]
  },
  {
   "attachments": {},
   "cell_type": "markdown",
   "metadata": {},
   "source": [
    "Se indica a Xfoil que corra los datos anteriores"
   ]
  },
  {
   "cell_type": "code",
   "execution_count": 27,
   "metadata": {},
   "outputs": [],
   "source": [
    "#for i in range(10,210,5):\n",
    "#   for j in range(10,210,5):\n",
    "#      for k in range(10,150,5):\n",
    "#         run_simulation(i,j,k)\n",
    "run_simulation(100,100,100)"
   ]
  },
  {
   "attachments": {},
   "cell_type": "markdown",
   "metadata": {},
   "source": [
    "<h2>6. Lectura de archivos para comparar el mejor\n"
   ]
  },
  {
   "attachments": {},
   "cell_type": "markdown",
   "metadata": {},
   "source": [
    "Lecutra de archivo"
   ]
  },
  {
   "cell_type": "code",
   "execution_count": 28,
   "metadata": {},
   "outputs": [],
   "source": [
    "def get_params_from_fname(fname):\n",
    "    params = re.search(r'sim_(\\d+(?:\\.\\d+)?)_(\\d+(?:\\.\\d+)?)_(\\d+(?:\\.\\d+)?)\\.txt', fname)\n",
    "    return [params.group(i) for i in range(1, 4)]"
   ]
  },
  {
   "attachments": {},
   "cell_type": "markdown",
   "metadata": {},
   "source": [
    "Ingreso al documento para separar las columnas de los archivos "
   ]
  },
  {
   "cell_type": "code",
   "execution_count": 29,
   "metadata": {},
   "outputs": [],
   "source": [
    "def filter_empty(values):\n",
    "  return list(filter(lambda line: False if line == \"\" else True, values))\n",
    "\n",
    "def get_values(line):\n",
    "  values = re.split(r'\\s+', line)\n",
    "  values = filter_empty(values)\n",
    "  return list(map(float, values))\n",
    "\n",
    "def get_table(file):\n",
    "  match_ = re.search(r'((?:-{2,} *)+)', file)\n",
    "  match_.groups(1)\n",
    "  \n",
    "  table = file[match_.end(1): len(file)]\n",
    "  lines = table.split(\"\\n\")\n",
    "  lines = filter_empty(lines)\n",
    "\n",
    "  values = list(map(get_values, lines))\n",
    "  return values\n"
   ]
  },
  {
   "attachments": {},
   "cell_type": "markdown",
   "metadata": {},
   "source": [
    "Calculo de la eficiencia dentro de los archivos "
   ]
  },
  {
   "cell_type": "code",
   "execution_count": 30,
   "metadata": {},
   "outputs": [],
   "source": [
    "def get_value(table):\n",
    "    cl_values=list(map(lambda line: line[1]/line[2], table))\n",
    "    max=np.max(cl_values)  \n",
    "    return max\n",
    "    #return cl_values[6]"
   ]
  },
  {
   "attachments": {},
   "cell_type": "markdown",
   "metadata": {},
   "source": [
    "Por medio de \"Queue\" biblioteca de python se crea una lista de prioridad que permite ver el rango entre los parametros "
   ]
  },
  {
   "cell_type": "code",
   "execution_count": 31,
   "metadata": {},
   "outputs": [],
   "source": [
    "X=PriorityQueue()\n"
   ]
  },
  {
   "cell_type": "code",
   "execution_count": 32,
   "metadata": {},
   "outputs": [
    {
     "ename": "ValueError",
     "evalue": "zero-size array to reduction operation maximum which has no identity",
     "output_type": "error",
     "traceback": [
      "\u001b[1;31m---------------------------------------------------------------------------\u001b[0m",
      "\u001b[1;31mValueError\u001b[0m                                Traceback (most recent call last)",
      "Cell \u001b[1;32mIn[32], line 6\u001b[0m\n\u001b[0;32m      4\u001b[0m params\u001b[39m=\u001b[39mget_params_from_fname(name)\n\u001b[0;32m      5\u001b[0m values \u001b[39m=\u001b[39m get_table(content)\n\u001b[1;32m----> 6\u001b[0m result\u001b[39m=\u001b[39mget_value(values)\n\u001b[0;32m      7\u001b[0m X\u001b[39m.\u001b[39mput((\u001b[39m-\u001b[39mresult,params))\u001b[39m#El orden da negativo pero no es el valor real, son positivos \u001b[39;00m\n\u001b[0;32m      8\u001b[0m f\u001b[39m.\u001b[39mclose()\n",
      "Cell \u001b[1;32mIn[30], line 3\u001b[0m, in \u001b[0;36mget_value\u001b[1;34m(table)\u001b[0m\n\u001b[0;32m      1\u001b[0m \u001b[39mdef\u001b[39;00m \u001b[39mget_value\u001b[39m(table):\n\u001b[0;32m      2\u001b[0m     cl_values\u001b[39m=\u001b[39m\u001b[39mlist\u001b[39m(\u001b[39mmap\u001b[39m(\u001b[39mlambda\u001b[39;00m line: line[\u001b[39m1\u001b[39m]\u001b[39m/\u001b[39mline[\u001b[39m2\u001b[39m], table))\n\u001b[1;32m----> 3\u001b[0m     \u001b[39mmax\u001b[39m\u001b[39m=\u001b[39mnp\u001b[39m.\u001b[39;49mmax(cl_values)  \n\u001b[0;32m      4\u001b[0m     \u001b[39mreturn\u001b[39;00m \u001b[39mmax\u001b[39m\n",
      "File \u001b[1;32m~\\AppData\\Local\\Packages\\PythonSoftwareFoundation.Python.3.11_qbz5n2kfra8p0\\LocalCache\\local-packages\\Python311\\site-packages\\numpy\\core\\fromnumeric.py:2810\u001b[0m, in \u001b[0;36mmax\u001b[1;34m(a, axis, out, keepdims, initial, where)\u001b[0m\n\u001b[0;32m   2692\u001b[0m \u001b[39m@array_function_dispatch\u001b[39m(_max_dispatcher)\n\u001b[0;32m   2693\u001b[0m \u001b[39m@set_module\u001b[39m(\u001b[39m'\u001b[39m\u001b[39mnumpy\u001b[39m\u001b[39m'\u001b[39m)\n\u001b[0;32m   2694\u001b[0m \u001b[39mdef\u001b[39;00m \u001b[39mmax\u001b[39m(a, axis\u001b[39m=\u001b[39m\u001b[39mNone\u001b[39;00m, out\u001b[39m=\u001b[39m\u001b[39mNone\u001b[39;00m, keepdims\u001b[39m=\u001b[39mnp\u001b[39m.\u001b[39m_NoValue, initial\u001b[39m=\u001b[39mnp\u001b[39m.\u001b[39m_NoValue,\n\u001b[0;32m   2695\u001b[0m          where\u001b[39m=\u001b[39mnp\u001b[39m.\u001b[39m_NoValue):\n\u001b[0;32m   2696\u001b[0m \u001b[39m    \u001b[39m\u001b[39m\"\"\"\u001b[39;00m\n\u001b[0;32m   2697\u001b[0m \u001b[39m    Return the maximum of an array or maximum along an axis.\u001b[39;00m\n\u001b[0;32m   2698\u001b[0m \n\u001b[1;32m   (...)\u001b[0m\n\u001b[0;32m   2808\u001b[0m \u001b[39m    5\u001b[39;00m\n\u001b[0;32m   2809\u001b[0m \u001b[39m    \"\"\"\u001b[39;00m\n\u001b[1;32m-> 2810\u001b[0m     \u001b[39mreturn\u001b[39;00m _wrapreduction(a, np\u001b[39m.\u001b[39;49mmaximum, \u001b[39m'\u001b[39;49m\u001b[39mmax\u001b[39;49m\u001b[39m'\u001b[39;49m, axis, \u001b[39mNone\u001b[39;49;00m, out,\n\u001b[0;32m   2811\u001b[0m                           keepdims\u001b[39m=\u001b[39;49mkeepdims, initial\u001b[39m=\u001b[39;49minitial, where\u001b[39m=\u001b[39;49mwhere)\n",
      "File \u001b[1;32m~\\AppData\\Local\\Packages\\PythonSoftwareFoundation.Python.3.11_qbz5n2kfra8p0\\LocalCache\\local-packages\\Python311\\site-packages\\numpy\\core\\fromnumeric.py:88\u001b[0m, in \u001b[0;36m_wrapreduction\u001b[1;34m(obj, ufunc, method, axis, dtype, out, **kwargs)\u001b[0m\n\u001b[0;32m     85\u001b[0m         \u001b[39melse\u001b[39;00m:\n\u001b[0;32m     86\u001b[0m             \u001b[39mreturn\u001b[39;00m reduction(axis\u001b[39m=\u001b[39maxis, out\u001b[39m=\u001b[39mout, \u001b[39m*\u001b[39m\u001b[39m*\u001b[39mpasskwargs)\n\u001b[1;32m---> 88\u001b[0m \u001b[39mreturn\u001b[39;00m ufunc\u001b[39m.\u001b[39;49mreduce(obj, axis, dtype, out, \u001b[39m*\u001b[39;49m\u001b[39m*\u001b[39;49mpasskwargs)\n",
      "\u001b[1;31mValueError\u001b[0m: zero-size array to reduction operation maximum which has no identity"
     ]
    }
   ],
   "source": [
    "for name in glob.glob('./barrido06/sim*.txt'):\n",
    "    f = open(name, \"r\")\n",
    "    content=f.read()\n",
    "    params=get_params_from_fname(name)\n",
    "    values = get_table(content)\n",
    "    result=get_value(values)\n",
    "    X.put((-result,params))#El orden da negativo pero no es el valor real, son positivos \n",
    "    f.close()"
   ]
  },
  {
   "attachments": {},
   "cell_type": "markdown",
   "metadata": {},
   "source": [
    "<h1> 7. Lista ordenada de mejores eficiencias a peores"
   ]
  },
  {
   "cell_type": "code",
   "execution_count": null,
   "metadata": {},
   "outputs": [
    {
     "data": {
      "text/plain": [
       "[(780.9090909090909, ['100', '100', '100'])]"
      ]
     },
     "metadata": {},
     "output_type": "display_data"
    }
   ],
   "source": [
    "n = 0\n",
    "top=[]\n",
    "while not X.empty():\n",
    "    priority,params = X.get()\n",
    "    priority*=-1\n",
    "    top.append((priority,params))\n",
    "    n += 1\n",
    "display(top)"
   ]
  },
  {
   "attachments": {},
   "cell_type": "markdown",
   "metadata": {},
   "source": [
    "<h2> Graficas que muestran el comportamiento de las diferentes combinaciones"
   ]
  },
  {
   "attachments": {},
   "cell_type": "markdown",
   "metadata": {},
   "source": [
    "Separación de formato "
   ]
  },
  {
   "cell_type": "code",
   "execution_count": null,
   "metadata": {},
   "outputs": [],
   "source": [
    "CL=[]\n",
    "I=[]\n",
    "J=[]\n",
    "K=[]\n",
    "for cl, (i, j, k) in top:\n",
    "    CL.append(cl)\n",
    "    I.append(float(i))\n",
    "    J.append(float(j))\n",
    "    K.append(float(k))\n"
   ]
  },
  {
   "attachments": {},
   "cell_type": "markdown",
   "metadata": {},
   "source": [
    "Impresión de grafico que muestra el comportamiento de los parametros combinados y la eficiencia de cada combinación\n"
   ]
  },
  {
   "cell_type": "code",
   "execution_count": null,
   "metadata": {},
   "outputs": [
    {
     "data": {
      "image/png": "[encoded data removed]",
      "text/plain": [
       "<Figure size 1200x800 with 2 Axes>"
      ]
     },
     "metadata": {},
     "output_type": "display_data"
    }
   ],
   "source": [
    "# Create a colormap\n",
    "cmap = plt.get_cmap('rainbow')  # You can change the colormap as needed\n",
    "\n",
    "# Create a figure and 3D axes\n",
    "fig = plt.figure(figsize=(12, 8))\n",
    "ax = fig.add_subplot(111, projection='3d')\n",
    "\n",
    "# Create the scatter plot\n",
    "scatter = ax.scatter(I, J, K, c=CL, cmap=cmap, marker='o')\n",
    "\n",
    "# Add color bar\n",
    "cbar = plt.colorbar(scatter)\n",
    "cbar.set_label('Cl/Cd (ddyemax, ddyimin, alpha )')\n",
    "\n",
    "# Set axis labels\n",
    "ax.set_xlabel('ddyemax')\n",
    "ax.set_ylabel('ddyimin')\n",
    "ax.set_zlabel('alpha')\n",
    "\n",
    "# Show the plot\n",
    "plt.show()"
   ]
  },
  {
   "attachments": {},
   "cell_type": "markdown",
   "metadata": {},
   "source": []
  },
  {
   "cell_type": "code",
   "execution_count": null,
   "metadata": {},
   "outputs": [],
   "source": [
    "uid=int(0)\n",
    "def evalue_sim(x):\n",
    "    global uid\n",
    "    i,j,k=x\n",
    "    name=f\"results_opt/_sim_{uid}\"\n",
    "    name2=name\n",
    "    run_simulation(i,j,k,fname=name) #asignar a la fuerza un nombre \n",
    "    name+=\".txt\"\n",
    "    f = open(name, \"r\")\n",
    "    content=f.read()\n",
    "    values = get_table(content)\n",
    "    result=get_value(values)\n",
    "    f.close()\n",
    "    os.remove(name)\n",
    "    os.remove(name2+\".dat\")\n",
    "    try:\n",
    "        os.remove(name2+\".in\")\n",
    "    except PermissionError:\n",
    "        print(\"PermissionError\")\n",
    "    uid+=1\n",
    "    return result"
   ]
  },
  {
   "cell_type": "code",
   "execution_count": null,
   "metadata": {},
   "outputs": [
    {
     "ename": "ValueError",
     "evalue": "zero-size array to reduction operation maximum which has no identity",
     "output_type": "error",
     "traceback": [
      "\u001b[1;31m---------------------------------------------------------------------------\u001b[0m",
      "\u001b[1;31mValueError\u001b[0m                                Traceback (most recent call last)",
      "Cell \u001b[1;32mIn[175], line 4\u001b[0m\n\u001b[0;32m      2\u001b[0m rangej\u001b[39m=\u001b[39m(\u001b[39m10\u001b[39m,\u001b[39m210\u001b[39m)\n\u001b[0;32m      3\u001b[0m rangek\u001b[39m=\u001b[39m(\u001b[39m10\u001b[39m,\u001b[39m150\u001b[39m)\n\u001b[1;32m----> 4\u001b[0m maxim \u001b[39m=\u001b[39m dual_annealing(\u001b[39mlambda\u001b[39;49;00m p:\u001b[39m-\u001b[39;49mevalue_sim(p), bounds\u001b[39m=\u001b[39;49m(rangei, rangej, rangek),maxiter\u001b[39m=\u001b[39;49m\u001b[39m1000\u001b[39;49m)\n\u001b[0;32m      5\u001b[0m maxim\n",
      "File \u001b[1;32m~\\AppData\\Local\\Packages\\PythonSoftwareFoundation.Python.3.11_qbz5n2kfra8p0\\LocalCache\\local-packages\\Python311\\site-packages\\scipy\\optimize\\_dual_annealing.py:658\u001b[0m, in \u001b[0;36mdual_annealing\u001b[1;34m(func, bounds, args, maxiter, minimizer_kwargs, initial_temp, restart_temp_ratio, visit, accept, maxfun, seed, no_local_search, callback, x0)\u001b[0m\n\u001b[0;32m    656\u001b[0m \u001b[39m# Initialization of the energy state\u001b[39;00m\n\u001b[0;32m    657\u001b[0m energy_state \u001b[39m=\u001b[39m EnergyState(lower, upper, callback)\n\u001b[1;32m--> 658\u001b[0m energy_state\u001b[39m.\u001b[39;49mreset(func_wrapper, rand_state, x0)\n\u001b[0;32m    659\u001b[0m \u001b[39m# Minimum value of annealing temperature reached to perform\u001b[39;00m\n\u001b[0;32m    660\u001b[0m \u001b[39m# re-annealing\u001b[39;00m\n\u001b[0;32m    661\u001b[0m temperature_restart \u001b[39m=\u001b[39m initial_temp \u001b[39m*\u001b[39m restart_temp_ratio\n",
      "File \u001b[1;32m~\\AppData\\Local\\Packages\\PythonSoftwareFoundation.Python.3.11_qbz5n2kfra8p0\\LocalCache\\local-packages\\Python311\\site-packages\\scipy\\optimize\\_dual_annealing.py:172\u001b[0m, in \u001b[0;36mEnergyState.reset\u001b[1;34m(self, func_wrapper, rand_gen, x0)\u001b[0m\n\u001b[0;32m    170\u001b[0m reinit_counter \u001b[39m=\u001b[39m \u001b[39m0\u001b[39m\n\u001b[0;32m    171\u001b[0m \u001b[39mwhile\u001b[39;00m init_error:\n\u001b[1;32m--> 172\u001b[0m     \u001b[39mself\u001b[39m\u001b[39m.\u001b[39mcurrent_energy \u001b[39m=\u001b[39m func_wrapper\u001b[39m.\u001b[39;49mfun(\u001b[39mself\u001b[39;49m\u001b[39m.\u001b[39;49mcurrent_location)\n\u001b[0;32m    173\u001b[0m     \u001b[39mif\u001b[39;00m \u001b[39mself\u001b[39m\u001b[39m.\u001b[39mcurrent_energy \u001b[39mis\u001b[39;00m \u001b[39mNone\u001b[39;00m:\n\u001b[0;32m    174\u001b[0m         \u001b[39mraise\u001b[39;00m \u001b[39mValueError\u001b[39;00m(\u001b[39m'\u001b[39m\u001b[39mObjective function is returning None\u001b[39m\u001b[39m'\u001b[39m)\n",
      "File \u001b[1;32m~\\AppData\\Local\\Packages\\PythonSoftwareFoundation.Python.3.11_qbz5n2kfra8p0\\LocalCache\\local-packages\\Python311\\site-packages\\scipy\\optimize\\_dual_annealing.py:381\u001b[0m, in \u001b[0;36mObjectiveFunWrapper.fun\u001b[1;34m(self, x)\u001b[0m\n\u001b[0;32m    379\u001b[0m \u001b[39mdef\u001b[39;00m \u001b[39mfun\u001b[39m(\u001b[39mself\u001b[39m, x):\n\u001b[0;32m    380\u001b[0m     \u001b[39mself\u001b[39m\u001b[39m.\u001b[39mnfev \u001b[39m+\u001b[39m\u001b[39m=\u001b[39m \u001b[39m1\u001b[39m\n\u001b[1;32m--> 381\u001b[0m     \u001b[39mreturn\u001b[39;00m \u001b[39mself\u001b[39;49m\u001b[39m.\u001b[39;49mfunc(x, \u001b[39m*\u001b[39;49m\u001b[39mself\u001b[39;49m\u001b[39m.\u001b[39;49margs)\n",
      "Cell \u001b[1;32mIn[175], line 4\u001b[0m, in \u001b[0;36m<lambda>\u001b[1;34m(p)\u001b[0m\n\u001b[0;32m      2\u001b[0m rangej\u001b[39m=\u001b[39m(\u001b[39m10\u001b[39m,\u001b[39m210\u001b[39m)\n\u001b[0;32m      3\u001b[0m rangek\u001b[39m=\u001b[39m(\u001b[39m10\u001b[39m,\u001b[39m150\u001b[39m)\n\u001b[1;32m----> 4\u001b[0m maxim \u001b[39m=\u001b[39m dual_annealing(\u001b[39mlambda\u001b[39;00m p:\u001b[39m-\u001b[39mevalue_sim(p), bounds\u001b[39m=\u001b[39m(rangei, rangej, rangek),maxiter\u001b[39m=\u001b[39m\u001b[39m1000\u001b[39m)\n\u001b[0;32m      5\u001b[0m maxim\n",
      "Cell \u001b[1;32mIn[174], line 12\u001b[0m, in \u001b[0;36mevalue_sim\u001b[1;34m(x)\u001b[0m\n\u001b[0;32m     10\u001b[0m content\u001b[39m=\u001b[39mf\u001b[39m.\u001b[39mread()\n\u001b[0;32m     11\u001b[0m values \u001b[39m=\u001b[39m get_table(content)\n\u001b[1;32m---> 12\u001b[0m result\u001b[39m=\u001b[39mget_value(values)\n\u001b[0;32m     13\u001b[0m f\u001b[39m.\u001b[39mclose()\n\u001b[0;32m     14\u001b[0m os\u001b[39m.\u001b[39mremove(name)\n",
      "Cell \u001b[1;32mIn[168], line 3\u001b[0m, in \u001b[0;36mget_value\u001b[1;34m(table)\u001b[0m\n\u001b[0;32m      1\u001b[0m \u001b[39mdef\u001b[39;00m \u001b[39mget_value\u001b[39m(table):\n\u001b[0;32m      2\u001b[0m     cl_values\u001b[39m=\u001b[39m\u001b[39mlist\u001b[39m(\u001b[39mmap\u001b[39m(\u001b[39mlambda\u001b[39;00m line: line[\u001b[39m1\u001b[39m]\u001b[39m/\u001b[39mline[\u001b[39m2\u001b[39m], table))\n\u001b[1;32m----> 3\u001b[0m     \u001b[39mmax\u001b[39m\u001b[39m=\u001b[39mnp\u001b[39m.\u001b[39;49mmax(cl_values)  \n\u001b[0;32m      4\u001b[0m     \u001b[39mreturn\u001b[39;00m \u001b[39mmax\u001b[39m\n",
      "File \u001b[1;32m~\\AppData\\Local\\Packages\\PythonSoftwareFoundation.Python.3.11_qbz5n2kfra8p0\\LocalCache\\local-packages\\Python311\\site-packages\\numpy\\core\\fromnumeric.py:2810\u001b[0m, in \u001b[0;36mmax\u001b[1;34m(a, axis, out, keepdims, initial, where)\u001b[0m\n\u001b[0;32m   2692\u001b[0m \u001b[39m@array_function_dispatch\u001b[39m(_max_dispatcher)\n\u001b[0;32m   2693\u001b[0m \u001b[39m@set_module\u001b[39m(\u001b[39m'\u001b[39m\u001b[39mnumpy\u001b[39m\u001b[39m'\u001b[39m)\n\u001b[0;32m   2694\u001b[0m \u001b[39mdef\u001b[39;00m \u001b[39mmax\u001b[39m(a, axis\u001b[39m=\u001b[39m\u001b[39mNone\u001b[39;00m, out\u001b[39m=\u001b[39m\u001b[39mNone\u001b[39;00m, keepdims\u001b[39m=\u001b[39mnp\u001b[39m.\u001b[39m_NoValue, initial\u001b[39m=\u001b[39mnp\u001b[39m.\u001b[39m_NoValue,\n\u001b[0;32m   2695\u001b[0m          where\u001b[39m=\u001b[39mnp\u001b[39m.\u001b[39m_NoValue):\n\u001b[0;32m   2696\u001b[0m \u001b[39m    \u001b[39m\u001b[39m\"\"\"\u001b[39;00m\n\u001b[0;32m   2697\u001b[0m \u001b[39m    Return the maximum of an array or maximum along an axis.\u001b[39;00m\n\u001b[0;32m   2698\u001b[0m \n\u001b[1;32m   (...)\u001b[0m\n\u001b[0;32m   2808\u001b[0m \u001b[39m    5\u001b[39;00m\n\u001b[0;32m   2809\u001b[0m \u001b[39m    \"\"\"\u001b[39;00m\n\u001b[1;32m-> 2810\u001b[0m     \u001b[39mreturn\u001b[39;00m _wrapreduction(a, np\u001b[39m.\u001b[39;49mmaximum, \u001b[39m'\u001b[39;49m\u001b[39mmax\u001b[39;49m\u001b[39m'\u001b[39;49m, axis, \u001b[39mNone\u001b[39;49;00m, out,\n\u001b[0;32m   2811\u001b[0m                           keepdims\u001b[39m=\u001b[39;49mkeepdims, initial\u001b[39m=\u001b[39;49minitial, where\u001b[39m=\u001b[39;49mwhere)\n",
      "File \u001b[1;32m~\\AppData\\Local\\Packages\\PythonSoftwareFoundation.Python.3.11_qbz5n2kfra8p0\\LocalCache\\local-packages\\Python311\\site-packages\\numpy\\core\\fromnumeric.py:88\u001b[0m, in \u001b[0;36m_wrapreduction\u001b[1;34m(obj, ufunc, method, axis, dtype, out, **kwargs)\u001b[0m\n\u001b[0;32m     85\u001b[0m         \u001b[39melse\u001b[39;00m:\n\u001b[0;32m     86\u001b[0m             \u001b[39mreturn\u001b[39;00m reduction(axis\u001b[39m=\u001b[39maxis, out\u001b[39m=\u001b[39mout, \u001b[39m*\u001b[39m\u001b[39m*\u001b[39mpasskwargs)\n\u001b[1;32m---> 88\u001b[0m \u001b[39mreturn\u001b[39;00m ufunc\u001b[39m.\u001b[39;49mreduce(obj, axis, dtype, out, \u001b[39m*\u001b[39;49m\u001b[39m*\u001b[39;49mpasskwargs)\n",
      "\u001b[1;31mValueError\u001b[0m: zero-size array to reduction operation maximum which has no identity"
     ]
    }
   ],
   "source": [
    "rangei=(10,210)\n",
    "rangej=(10,210)\n",
    "rangek=(10,150)\n",
    "maxim = dual_annealing(lambda p:-evalue_sim(p), bounds=(rangei, rangej, rangek),maxiter=1000)\n",
    "maxim"
   ]
  },
  {
   "cell_type": "code",
   "execution_count": null,
   "metadata": {},
   "outputs": [
    {
     "data": {
      "text/plain": [
       "array([93.02032086, 94.83778533, 72.48077132])"
      ]
     },
     "execution_count": 36,
     "metadata": {},
     "output_type": "execute_result"
    }
   ],
   "source": [
    "maxim.x"
   ]
  },
  {
   "cell_type": "code",
   "execution_count": null,
   "metadata": {},
   "outputs": [
    {
     "data": {
      "text/plain": [
       "152.48496993987976"
      ]
     },
     "execution_count": 37,
     "metadata": {},
     "output_type": "execute_result"
    }
   ],
   "source": [
    "evalue_sim(maxim.x)"
   ]
  },
  {
   "cell_type": "code",
   "execution_count": null,
   "metadata": {},
   "outputs": [],
   "source": [
    "run_simulation(93.02032086, 94.83778533, 72.48077132)\n",
    "run_simulation(100,100,100)"
   ]
  },
  {
   "cell_type": "code",
   "execution_count": null,
   "metadata": {},
   "outputs": [],
   "source": []
  }
 ],
 "metadata": {
  "kernelspec": {
   "display_name": "Python 3",
   "language": "python",
   "name": "python3"
  },
  "language_info": {
   "codemirror_mode": {
    "name": "ipython",
    "version": 3
   },
   "file_extension": ".py",
   "mimetype": "text/x-python",
   "name": "python",
   "nbconvert_exporter": "python",
   "pygments_lexer": "ipython3",
   "version": "3.11.6"
  },
  "orig_nbformat": 4
 },
 "nbformat": 4,
 "nbformat_minor": 2
}
