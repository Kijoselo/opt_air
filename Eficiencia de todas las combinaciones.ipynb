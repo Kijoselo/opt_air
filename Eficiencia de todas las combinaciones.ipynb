{
 "cells": [
  {
   "cell_type": "code",
   "execution_count": 4,
   "metadata": {},
   "outputs": [
    {
     "name": "stdout",
     "output_type": "stream",
     "text": [
      "Requirement already satisfied: sympy in c:\\users\\josea\\appdata\\local\\programs\\python\\python310\\lib\\site-packages (1.12)\n",
      "Requirement already satisfied: mpmath>=0.19 in c:\\users\\josea\\appdata\\local\\programs\\python\\python310\\lib\\site-packages (from sympy) (1.3.0)\n",
      "Note: you may need to restart the kernel to use updated packages.\n"
     ]
    }
   ],
   "source": [
    "%pip install sympy\n"
   ]
  },
  {
   "cell_type": "markdown",
   "metadata": {},
   "source": [
    "<h2>Importación</h2>"
   ]
  },
  {
   "cell_type": "code",
   "execution_count": 5,
   "metadata": {},
   "outputs": [],
   "source": [
    "import numpy as np\n",
    "import math\n",
    "from scipy.optimize import dual_annealing\n",
    "import sympy\n",
    "import subprocess\n",
    "import glob\n",
    "from queue import PriorityQueue\n",
    "import re\n",
    "import os \n",
    "import matplotlib.pyplot as plt\n",
    "from scipy.optimize import fsolve"
   ]
  },
  {
   "cell_type": "markdown",
   "metadata": {},
   "source": [
    "<h1>->Optimización de silueta NACA 2411 </h>"
   ]
  },
  {
   "cell_type": "markdown",
   "metadata": {},
   "source": [
    "<h2>1. Ingreso de coordenadas [x,y] para extrados e intrados</h2>"
   ]
  },
  {
   "cell_type": "markdown",
   "metadata": {},
   "source": [
    "Nota: Se elimino el valor de conexión entre extrados e intrados [0,0]"
   ]
  },
  {
   "cell_type": "markdown",
   "metadata": {},
   "source": [
    "-> Extrados"
   ]
  },
  {
   "cell_type": "code",
   "execution_count": 6,
   "metadata": {},
   "outputs": [
    {
     "name": "stdout",
     "output_type": "stream",
     "text": [
      " xe \t  ye\n",
      "1.000 \t 0.001\n",
      "0.905 \t 0.019\n",
      "0.656 \t 0.054\n",
      "0.345 \t 0.074\n",
      "0.092 \t 0.050\n",
      "0.022 \t 0.026\n"
     ]
    }
   ],
   "source": [
    "xe=[1.000077, 0.905222, 0.655569, 0.344747, 0.092287, 0.022253]\n",
    "ye=[0.001152, 0.018594, 0.053894, 0.074234, 0.050499,0.026004]\n",
    "print(\" xe\",\"\\t\",\" ye\")\n",
    "matrix_length = len(xe)\n",
    "for i in range(matrix_length):\n",
    "    print(f\"{xe[i]:.3f}\",\"\\t\",f\"{ye[i]:.3f}\") "
   ]
  },
  {
   "cell_type": "markdown",
   "metadata": {},
   "source": [
    "-> Intrados"
   ]
  },
  {
   "cell_type": "code",
   "execution_count": 7,
   "metadata": {},
   "outputs": [
    {
     "name": "stdout",
     "output_type": "stream",
     "text": [
      " xi \t  yi\n",
      "0.099 \t -0.034\n",
      "0.209 \t -0.038\n",
      "0.346 \t -0.035\n",
      "0.653 \t -0.021\n",
      "0.904 \t -0.007\n",
      "1.000 \t -0.001\n"
     ]
    }
   ],
   "source": [
    "xi=[0.098696, 0.208669, 0.346236, 0.653448, 0.903795, 0.999923]\n",
    "yi=[-0.03368, -0.037542, -0.034976, -0.021091, -0.006875, -0.001152]\n",
    "print(\" xi\",\"\\t\",\" yi\")\n",
    "matrix_length = len(xi)\n",
    "for i in range(matrix_length):\n",
    "    print(f\"{xi[i]:.3f}\",\"\\t\",f\"{yi[i]:.3f}\") "
   ]
  },
  {
   "cell_type": "markdown",
   "metadata": {},
   "source": [
    "<h2>2. Sistema de ecuaciones para encontrar los coeficientes \"a\" del extrados e intrados</h2>"
   ]
  },
  {
   "cell_type": "markdown",
   "metadata": {},
   "source": [
    "->Extrados"
   ]
  },
  {
   "cell_type": "code",
   "execution_count": 8,
   "metadata": {},
   "outputs": [
    {
     "name": "stdout",
     "output_type": "stream",
     "text": [
      "[ 0.17657898 -0.09815569 -0.15177792 -0.01308316  0.1986828  -0.11107752]\n"
     ]
    }
   ],
   "source": [
    "A = np.array([[pow(xe[j], i + 0.5) for i in range(0, 6)] for j in range(0, 6)])\n",
    "b = np.array(ye)\n",
    "sol_e = np.linalg.solve(A, b)\n",
    "print(sol_e)"
   ]
  },
  {
   "cell_type": "markdown",
   "metadata": {},
   "source": [
    "-> Intrados"
   ]
  },
  {
   "cell_type": "code",
   "execution_count": 9,
   "metadata": {},
   "outputs": [
    {
     "name": "stdout",
     "output_type": "stream",
     "text": [
      "[-0.13752259  0.35466163 -0.53503907  0.57857988 -0.3498213   0.0879941 ]\n"
     ]
    }
   ],
   "source": [
    "A = np.array([[pow(xi[j], i + 0.5) for i in range(0, 6)] for j in range(0, 6)])\n",
    "b = np.array(yi)\n",
    "sol_i = np.linalg.solve(A, b)\n",
    "print(sol_i)"
   ]
  },
  {
   "cell_type": "markdown",
   "metadata": {},
   "source": [
    "<h2>NOTA: aquí se verifican los resultados posteriores para y\"emáx, y\"imin, x_emax & x_imin"
   ]
  },
  {
   "cell_type": "markdown",
   "metadata": {},
   "source": [
    "-> Calcular X_emax \n"
   ]
  },
  {
   "cell_type": "code",
   "execution_count": 10,
   "metadata": {},
   "outputs": [
    {
     "name": "stdout",
     "output_type": "stream",
     "text": [
      "x_eemax= 0.3454054020595761\n"
     ]
    },
    {
     "data": {
      "text/latex": [
       "$\\displaystyle 0.176578975045468 xee^{0.5} - 0.0981556898255968 xee^{1.5} - 0.151777919394591 xee^{2.5} - 0.0130831648208801 xee^{3.5} + 0.198682798462746 xee^{4.5} - 0.111077518624468 xee^{5.5}$"
      ],
      "text/plain": [
       "0.176578975045468*xee**0.5 - 0.0981556898255968*xee**1.5 - 0.151777919394591*xee**2.5 - 0.0130831648208801*xee**3.5 + 0.198682798462746*xee**4.5 - 0.111077518624468*xee**5.5"
      ]
     },
     "metadata": {},
     "output_type": "display_data"
    }
   ],
   "source": [
    "xee = sympy.symbols('xee')\n",
    "fe = sum(sol_e[i]*xee**(i + 0.5) for i in range(0, 6))\n",
    "\n",
    "dy = sympy.diff(fe, xee)\n",
    "\n",
    "sol = sympy.solve(dy, xee)\n",
    "\n",
    "def is_sol(xee):\n",
    "    if sympy.im(xee) != 0:\n",
    "        return False\n",
    "    if xee < 0 or xee > 1:\n",
    "        return False\n",
    "    return True\n",
    "\n",
    "x_eemax =float([xee for xee in sol if is_sol(xee)][0])\n",
    "print(\"x_eemax=\",x_eemax)\n",
    "display(fe)"
   ]
  },
  {
   "cell_type": "markdown",
   "metadata": {},
   "source": [
    "-> Calcular X_imax "
   ]
  },
  {
   "cell_type": "code",
   "execution_count": 11,
   "metadata": {},
   "outputs": [
    {
     "name": "stdout",
     "output_type": "stream",
     "text": [
      "x_imin= 0.21076554310772525\n"
     ]
    },
    {
     "data": {
      "text/latex": [
       "$\\displaystyle - 0.137522586613543 xii^{0.5} + 0.354661632344435 xii^{1.5} - 0.535039073008173 xii^{2.5} + 0.578579884638977 xii^{3.5} - 0.349821301634883 xii^{4.5} + 0.0879940976755725 xii^{5.5}$"
      ],
      "text/plain": [
       "-0.137522586613543*xii**0.5 + 0.354661632344435*xii**1.5 - 0.535039073008173*xii**2.5 + 0.578579884638977*xii**3.5 - 0.349821301634883*xii**4.5 + 0.0879940976755725*xii**5.5"
      ]
     },
     "metadata": {},
     "output_type": "display_data"
    }
   ],
   "source": [
    "xii = sympy.symbols('xii')\n",
    "fi = sum(sol_i[i]*xii**(i + 0.5) for i in range(0, 6))\n",
    "\n",
    "dy = sympy.diff(fi, xii)\n",
    "\n",
    "sol = sympy.solve(dy, xii)\n",
    "\n",
    "def is_sol(xii):\n",
    "    if sympy.im(xii) != 0:\n",
    "        return False\n",
    "    if xii < 0 or xii > 1:\n",
    "        return False\n",
    "    return True\n",
    "\n",
    "x_imin = float([xii for xii in sol if is_sol(xii)][0])\n",
    "print(\"x_imin=\",x_imin)\n",
    "display(fi)\n",
    "\n"
   ]
  },
  {
   "cell_type": "markdown",
   "metadata": {},
   "source": [
    "<h2>3. Calculo de los parametros del perfil original"
   ]
  },
  {
   "cell_type": "markdown",
   "metadata": {},
   "source": [
    "-> Variables simbolicas, no son numeros. Se crean para desarrollar el sistema de ecuaciones"
   ]
  },
  {
   "cell_type": "code",
   "execution_count": 12,
   "metadata": {},
   "outputs": [],
   "source": [
    "y_emax, y_imax, alpha, beta, y_bs, deltay_bs, x_emax, x_imax, dy_emax, dy_imax, r_ba=sympy.symbols(\"y_emax, y_imax, alpha, beta, y_bs, deltay_bs, x_emax,x_imax, dy_emax, dy_imax, r_ba\")"
   ]
  },
  {
   "cell_type": "markdown",
   "metadata": {},
   "source": [
    "->Los valores de ae & ai se vuelven simbolicos para emplearlo en el sistema (Iteradores)"
   ]
  },
  {
   "cell_type": "code",
   "execution_count": 13,
   "metadata": {},
   "outputs": [],
   "source": [
    "ae=sympy.symbols(\"ae:6\")\n",
    "ai=sympy.symbols(\"ai:6\")\n",
    "k=sympy.symbols(\"k\",integer=True)\n"
   ]
  },
  {
   "cell_type": "markdown",
   "metadata": {},
   "source": [
    "-> Ecuaciones a resolver"
   ]
  },
  {
   "cell_type": "code",
   "execution_count": 14,
   "metadata": {},
   "outputs": [],
   "source": [
    "eq1=sympy.sqrt(2*r_ba)+ai[0]\n",
    "#extrados\n",
    "eq2 =sum([ae[k-1]*pow(x_emax, k-0.5) for k in range(1, 7)])-y_emax\n",
    "eq3=sum([(k-0.5)*ae[k-1]*pow(x_emax, k-1.5) for k in range(1, 7)])\n",
    "eq4=sum([(k-1.5)*(k-0.5)*ae[k-1]*pow(x_emax, k-2.5) for k in range(1, 7)])-dy_emax\n",
    "eq5=sum([ae[k-1] for k in range(1, 7)])-y_bs-0.5*deltay_bs    #ybs+deltaybs esto tiene que ser 0 porque se encuentra la punta cerrada y conectada en el eje x\n",
    "eq6=sum([(k-0.5)*ae[k-1] for k in range(1, 7)])-sympy.tan((2*alpha-beta)/2)\n",
    "#intrados \n",
    "eq7=sum([ai[k-1]*pow(x_imax, k-0.5) for k in range(1, 7)])-y_imax\n",
    "eq8=sum([(k-0.5)*ai[k-1]*pow(x_imax, k-1.5) for k in range(1, 7)])\n",
    "eq9=sum([(k-1.5)*(k-0.5)*ai[k-1]*pow(x_imax, k-2.5) for k in range(1, 7)])-dy_imax\n",
    "eq10=sum([ai[k-1] for k in range(1, 7)])-y_bs-0.5*deltay_bs   #ybs+deltaybs esto tiene que ser 0 porque se encuentra la punta cerrada y conectada en el eje x\n",
    "eq11=sum([(k-0.5)*ai[k-1] for k in range(1, 7)])-sympy.tan((2*alpha+beta)/2)\n",
    "#Fueron igualadas a 0 para crear el sistema de solución con ayuda de sympy"
   ]
  },
  {
   "cell_type": "markdown",
   "metadata": {},
   "source": [
    "-> Impresión y verificación "
   ]
  },
  {
   "cell_type": "code",
   "execution_count": 15,
   "metadata": {},
   "outputs": [
    {
     "data": {
      "text/latex": [
       "$\\displaystyle ai_{0} + \\sqrt{2} \\sqrt{r_{ba}}$"
      ],
      "text/plain": [
       "ai0 + sqrt(2)*sqrt(r_ba)"
      ]
     },
     "metadata": {},
     "output_type": "display_data"
    },
    {
     "data": {
      "text/latex": [
       "$\\displaystyle ae_{0} x_{emax}^{0.5} + ae_{1} x_{emax}^{1.5} + ae_{2} x_{emax}^{2.5} + ae_{3} x_{emax}^{3.5} + ae_{4} x_{emax}^{4.5} + ae_{5} x_{emax}^{5.5} - y_{emax}$"
      ],
      "text/plain": [
       "ae0*x_emax**0.5 + ae1*x_emax**1.5 + ae2*x_emax**2.5 + ae3*x_emax**3.5 + ae4*x_emax**4.5 + ae5*x_emax**5.5 - y_emax"
      ]
     },
     "metadata": {},
     "output_type": "display_data"
    },
    {
     "data": {
      "text/latex": [
       "$\\displaystyle \\frac{0.5 ae_{0}}{x_{emax}^{0.5}} + 1.5 ae_{1} x_{emax}^{0.5} + 2.5 ae_{2} x_{emax}^{1.5} + 3.5 ae_{3} x_{emax}^{2.5} + 4.5 ae_{4} x_{emax}^{3.5} + 5.5 ae_{5} x_{emax}^{4.5}$"
      ],
      "text/plain": [
       "0.5*ae0/x_emax**0.5 + 1.5*ae1*x_emax**0.5 + 2.5*ae2*x_emax**1.5 + 3.5*ae3*x_emax**2.5 + 4.5*ae4*x_emax**3.5 + 5.5*ae5*x_emax**4.5"
      ]
     },
     "metadata": {},
     "output_type": "display_data"
    },
    {
     "data": {
      "text/latex": [
       "$\\displaystyle - \\frac{0.25 ae_{0}}{x_{emax}^{1.5}} + \\frac{0.75 ae_{1}}{x_{emax}^{0.5}} + 3.75 ae_{2} x_{emax}^{0.5} + 8.75 ae_{3} x_{emax}^{1.5} + 15.75 ae_{4} x_{emax}^{2.5} + 24.75 ae_{5} x_{emax}^{3.5} - dy_{emax}$"
      ],
      "text/plain": [
       "-0.25*ae0/x_emax**1.5 + 0.75*ae1/x_emax**0.5 + 3.75*ae2*x_emax**0.5 + 8.75*ae3*x_emax**1.5 + 15.75*ae4*x_emax**2.5 + 24.75*ae5*x_emax**3.5 - dy_emax"
      ]
     },
     "metadata": {},
     "output_type": "display_data"
    },
    {
     "data": {
      "text/latex": [
       "$\\displaystyle ae_{0} + ae_{1} + ae_{2} + ae_{3} + ae_{4} + ae_{5} - 0.5 deltay_{bs} - y_{bs}$"
      ],
      "text/plain": [
       "ae0 + ae1 + ae2 + ae3 + ae4 + ae5 - 0.5*deltay_bs - y_bs"
      ]
     },
     "metadata": {},
     "output_type": "display_data"
    },
    {
     "data": {
      "text/latex": [
       "$\\displaystyle 0.5 ae_{0} + 1.5 ae_{1} + 2.5 ae_{2} + 3.5 ae_{3} + 4.5 ae_{4} + 5.5 ae_{5} - \\tan{\\left(\\alpha - \\frac{\\beta}{2} \\right)}$"
      ],
      "text/plain": [
       "0.5*ae0 + 1.5*ae1 + 2.5*ae2 + 3.5*ae3 + 4.5*ae4 + 5.5*ae5 - tan(alpha - beta/2)"
      ]
     },
     "metadata": {},
     "output_type": "display_data"
    },
    {
     "data": {
      "text/latex": [
       "$\\displaystyle ai_{0} x_{imax}^{0.5} + ai_{1} x_{imax}^{1.5} + ai_{2} x_{imax}^{2.5} + ai_{3} x_{imax}^{3.5} + ai_{4} x_{imax}^{4.5} + ai_{5} x_{imax}^{5.5} - y_{imax}$"
      ],
      "text/plain": [
       "ai0*x_imax**0.5 + ai1*x_imax**1.5 + ai2*x_imax**2.5 + ai3*x_imax**3.5 + ai4*x_imax**4.5 + ai5*x_imax**5.5 - y_imax"
      ]
     },
     "metadata": {},
     "output_type": "display_data"
    },
    {
     "data": {
      "text/latex": [
       "$\\displaystyle \\frac{0.5 ai_{0}}{x_{imax}^{0.5}} + 1.5 ai_{1} x_{imax}^{0.5} + 2.5 ai_{2} x_{imax}^{1.5} + 3.5 ai_{3} x_{imax}^{2.5} + 4.5 ai_{4} x_{imax}^{3.5} + 5.5 ai_{5} x_{imax}^{4.5}$"
      ],
      "text/plain": [
       "0.5*ai0/x_imax**0.5 + 1.5*ai1*x_imax**0.5 + 2.5*ai2*x_imax**1.5 + 3.5*ai3*x_imax**2.5 + 4.5*ai4*x_imax**3.5 + 5.5*ai5*x_imax**4.5"
      ]
     },
     "metadata": {},
     "output_type": "display_data"
    },
    {
     "data": {
      "text/latex": [
       "$\\displaystyle - \\frac{0.25 ai_{0}}{x_{imax}^{1.5}} + \\frac{0.75 ai_{1}}{x_{imax}^{0.5}} + 3.75 ai_{2} x_{imax}^{0.5} + 8.75 ai_{3} x_{imax}^{1.5} + 15.75 ai_{4} x_{imax}^{2.5} + 24.75 ai_{5} x_{imax}^{3.5} - dy_{imax}$"
      ],
      "text/plain": [
       "-0.25*ai0/x_imax**1.5 + 0.75*ai1/x_imax**0.5 + 3.75*ai2*x_imax**0.5 + 8.75*ai3*x_imax**1.5 + 15.75*ai4*x_imax**2.5 + 24.75*ai5*x_imax**3.5 - dy_imax"
      ]
     },
     "metadata": {},
     "output_type": "display_data"
    },
    {
     "data": {
      "text/latex": [
       "$\\displaystyle ai_{0} + ai_{1} + ai_{2} + ai_{3} + ai_{4} + ai_{5} - 0.5 deltay_{bs} - y_{bs}$"
      ],
      "text/plain": [
       "ai0 + ai1 + ai2 + ai3 + ai4 + ai5 - 0.5*deltay_bs - y_bs"
      ]
     },
     "metadata": {},
     "output_type": "display_data"
    },
    {
     "data": {
      "text/latex": [
       "$\\displaystyle 0.5 ai_{0} + 1.5 ai_{1} + 2.5 ai_{2} + 3.5 ai_{3} + 4.5 ai_{4} + 5.5 ai_{5} - \\tan{\\left(\\alpha + \\frac{\\beta}{2} \\right)}$"
      ],
      "text/plain": [
       "0.5*ai0 + 1.5*ai1 + 2.5*ai2 + 3.5*ai3 + 4.5*ai4 + 5.5*ai5 - tan(alpha + beta/2)"
      ]
     },
     "metadata": {},
     "output_type": "display_data"
    }
   ],
   "source": [
    "display(eq1)\n",
    "display(eq2)\n",
    "display(eq3)\n",
    "display(eq4)\n",
    "display(eq5)\n",
    "display(eq6)\n",
    "display(eq7)\n",
    "display(eq8)\n",
    "display(eq9)\n",
    "display(eq10)\n",
    "display(eq11)"
   ]
  },
  {
   "cell_type": "markdown",
   "metadata": {},
   "source": [
    "<h2>->Simplificación con suposición"
   ]
  },
  {
   "cell_type": "code",
   "execution_count": 16,
   "metadata": {},
   "outputs": [
    {
     "data": {
      "text/latex": [
       "$\\displaystyle \\sqrt{2} \\sqrt{r_{ba}} - 0.137522586613543$"
      ],
      "text/plain": [
       "sqrt(2)*sqrt(r_ba) - 0.137522586613543"
      ]
     },
     "metadata": {},
     "output_type": "display_data"
    },
    {
     "data": {
      "text/latex": [
       "$\\displaystyle 0.0742341187674546 - y_{emax}$"
      ],
      "text/plain": [
       "0.0742341187674546 - y_emax"
      ]
     },
     "metadata": {},
     "output_type": "display_data"
    },
    {
     "data": {
      "text/latex": [
       "$\\displaystyle - dy_{emax} - 0.54763595477253$"
      ],
      "text/plain": [
       "-dy_emax - 0.54763595477253"
      ]
     },
     "metadata": {},
     "output_type": "display_data"
    },
    {
     "data": {
      "text/latex": [
       "$\\displaystyle - \\tan{\\left(\\alpha - \\frac{\\beta}{2} \\right)} - 0.201033681927436$"
      ],
      "text/plain": [
       "-tan(alpha - beta/2) - 0.201033681927436"
      ]
     },
     "metadata": {},
     "output_type": "display_data"
    },
    {
     "data": {
      "text/latex": [
       "$\\displaystyle - y_{imax} - 0.0375428859238944$"
      ],
      "text/plain": [
       "-y_imax - 0.0375428859238944"
      ]
     },
     "metadata": {},
     "output_type": "display_data"
    },
    {
     "data": {
      "text/latex": [
       "$\\displaystyle 0.400447484269755 - dy_{imax}$"
      ],
      "text/plain": [
       "0.400447484269755 - dy_imax"
      ]
     },
     "metadata": {},
     "output_type": "display_data"
    },
    {
     "data": {
      "text/latex": [
       "$\\displaystyle 0.0604347487845426 - \\tan{\\left(\\alpha + \\frac{\\beta}{2} \\right)}$"
      ],
      "text/plain": [
       "0.0604347487845426 - tan(alpha + beta/2)"
      ]
     },
     "metadata": {},
     "output_type": "display_data"
    }
   ],
   "source": [
    "eq=[eq1, eq2,  eq4 , eq6, eq7, eq9, eq11] #Se crea un grupo para todas las ecuaciones, NOTA SE ELIMINA 3,5,8, 10 PORQUE VALEN 0!!!!\n",
    "for i in range(len(eq)):\n",
    "    for j in range(len(sol_e)):\n",
    "        eq[i]=eq[i].subs(ae[j],sol_e[j])\n",
    "    for j in range(len(sol_i)):\n",
    "        eq[i]=eq[i].subs(ai[j],sol_i[j])\n",
    "    eq[i]=eq[i].subs({ 'x_emax':x_eemax, 'x_imax':x_imin, 'deltay_bs':0, 'y_bs':0 }) #con derivadas se determina rapidamente estos valores para ayudar al solver\n",
    "\n",
    "for e in eq:\n",
    "    display(e) #todo esta igualado a cero"
   ]
  },
  {
   "cell_type": "markdown",
   "metadata": {},
   "source": [
    "<h2>->Solver </h2>"
   ]
  },
  {
   "cell_type": "code",
   "execution_count": 17,
   "metadata": {},
   "outputs": [],
   "source": [
    "def sistema_ecuaciones(x):\n",
    "    eqv = list(map(lambda eq: float(eq.subs({  #programación funcional \n",
    "       'r_ba': x[0],\n",
    "       'y_emax': x[1],\n",
    "       'dy_emax': x[2],\n",
    "       'alpha': x[3],\n",
    "       'beta':x[5],\n",
    "       'dy_imax': x[6],\n",
    "       'y_imax':x[4]\n",
    "    })),eq))\n",
    "\n",
    "    return eqv\n"
   ]
  },
  {
   "cell_type": "markdown",
   "metadata": {},
   "source": [
    "-> Se crean variables cero para permitir a Python resolver de forma lineal, con esto, se logra emplear el solver de \"fsolve\""
   ]
  },
  {
   "cell_type": "code",
   "execution_count": 18,
   "metadata": {},
   "outputs": [
    {
     "name": "stdout",
     "output_type": "stream",
     "text": [
      "Soluciones aproximadas:\n",
      "0.0095\n",
      "0.0742\n",
      "-0.5476\n",
      "-0.0690\n",
      "-0.0375\n",
      "0.2588\n",
      "0.4004\n"
     ]
    }
   ],
   "source": [
    "# Valores iniciales para las variables\n",
    "x0 = np.zeros(len(eq))\n",
    "\n",
    "# Resolver el sistema de ecuaciones\n",
    "solucion = fsolve(sistema_ecuaciones, x0)\n",
    "\n",
    "# Mostrar las soluciones aproximadas\n",
    "print(\"Soluciones aproximadas:\")\n",
    "for i in solucion:\n",
    "  print(\"%.4f\" % i)\n"
   ]
  },
  {
   "cell_type": "code",
   "execution_count": 19,
   "metadata": {},
   "outputs": [],
   "source": [
    "sol=np.array([*solucion]) #sprad operador de esparcir \n"
   ]
  },
  {
   "cell_type": "markdown",
   "metadata": {},
   "source": [
    "<h2>4. Calculo de los parametros de los perfiles variados "
   ]
  },
  {
   "cell_type": "code",
   "execution_count": 20,
   "metadata": {},
   "outputs": [],
   "source": [
    "def evalue_combi(i,j,k):\n",
    "    i, j, k = i / 100, j/100, k/100\n",
    "    sol[2]=solucion[2]*i\n",
    "    sol[3]=solucion[3]*j\n",
    "    sol[6]=solucion[6]*k\n",
    "    eq1=[1.0,0,0,0,0,0]\n",
    "    #extrados\n",
    "    eq2 =[pow(x_eemax, k-0.5) for k in range(1, 7)]\n",
    "    eq3=[(k-0.5)*pow(x_eemax, k-1.5) for k in range(1, 7)]\n",
    "    eq4=[(k-1.5)*(k-0.5)*pow(x_eemax, k-2.5) for k in range(1, 7)]\n",
    "    eq5=[1 for k in range(1, 7)]  #ybs+deltaybs esto tiene que ser 0 porque se encuentra la punta cerrada y conectada en el eje x\n",
    "    eq6=[(k-0.5) for k in range(1, 7)]\n",
    "    #intrados \n",
    "    eq7=[pow(x_imin, k-0.5) for k in range(1, 7)]\n",
    "    eq8=[(k-0.5)*pow(x_imin, k-1.5) for k in range(1, 7)]\n",
    "    eq9=[(k-1.5)*(k-0.5)*pow(x_imin, k-2.5) for k in range(1, 7)]\n",
    "    eq10=[1 for k in range(1, 7)] #ybs+deltaybs esto tiene que ser 0 porque se encuentra la punta cerrada y conectada en el eje x\n",
    "    eq11=[(k-0.5) for k in range(1, 7)]\n",
    "    eq12=[-1.0,0,0,0,0,0]\n",
    "\n",
    "    ve=[math.sqrt(2*sol[0]),sol[1],0,sol[2],0,math.tan((2*sol[3]-sol[5])/2)]\n",
    "    vi=[sol[4],0,sol[6],0,math.tan((2*sol[3]+sol[5])/2),math.sqrt(2*sol[0])]     \n",
    "    Ae=[eq1,eq2,eq3,eq4,eq5,eq6]\n",
    "    Ai=[eq7,eq8,eq9,eq10,eq11,eq12]\n",
    "    vi\n",
    "    sole=np.linalg.solve(Ae,ve)\n",
    "\n",
    "    soli=np.linalg.solve(Ai,vi)\n",
    "\n",
    "    return(sole, soli)"
   ]
  },
  {
   "cell_type": "markdown",
   "metadata": {},
   "source": [
    "<h3>-> Declaración de las funciones de los nuevos perfiles"
   ]
  },
  {
   "cell_type": "code",
   "execution_count": 21,
   "metadata": {},
   "outputs": [],
   "source": [
    "def get_coord_combi(i,j,k):\n",
    "    sole,soli=evalue_combi(i,j,k)\n",
    "    x=np.arange(0,1,0.01)\n",
    "    fee = sum(sole[i]*x**(i + 0.5) for i in range(0, 6))\n",
    "    fii = sum(soli[i]*x**(i + 0.5) for i in range(0, 6))\n",
    "    xx=[*x[::-1],*x]\n",
    "    yy=[*fee[::-1],*fii]\n",
    "    return(xx,yy)\n",
    "\n"
   ]
  },
  {
   "cell_type": "markdown",
   "metadata": {},
   "source": [
    "Creación de las impresiones de los nuevos perfiles"
   ]
  },
  {
   "cell_type": "code",
   "execution_count": 22,
   "metadata": {},
   "outputs": [],
   "source": [
    "def plot_combi(i,j,k):\n",
    "    xx,yy=get_coord_combi(i,j,k)\n",
    "    plt.plot(xx,yy)\n"
   ]
  },
  {
   "cell_type": "markdown",
   "metadata": {},
   "source": [
    "<h3>->Perfil base 2411"
   ]
  },
  {
   "cell_type": "code",
   "execution_count": 23,
   "metadata": {},
   "outputs": [
    {
     "data": {
      "image/png": "[encoded data removed]",
      "text/plain": [
       "<Figure size 2500x600 with 1 Axes>"
      ]
     },
     "metadata": {},
     "output_type": "display_data"
    }
   ],
   "source": [
    "plt.figure(figsize=(25,6))\n",
    "plot_combi(100,100,100)\n"
   ]
  },
  {
   "cell_type": "markdown",
   "metadata": {},
   "source": [
    "<h3>->Impresión de varios perfiles"
   ]
  },
  {
   "cell_type": "code",
   "execution_count": 24,
   "metadata": {},
   "outputs": [],
   "source": [
    "#plt.figure(figsize=(25,6))\n",
    "#for i in range(10,230,5):\n",
    "#    for j in range(10,230,5):\n",
    "#        for k in range(10,150,3):\n",
    "#            plot_combi(i,j,k)"
   ]
  },
  {
   "cell_type": "markdown",
   "metadata": {},
   "source": [
    "<h2>5. Creación de documentos para la simulación en Xfoil"
   ]
  },
  {
   "cell_type": "markdown",
   "metadata": {},
   "source": [
    "Geometría del perfil"
   ]
  },
  {
   "cell_type": "code",
   "execution_count": 25,
   "metadata": {},
   "outputs": [],
   "source": [
    "def create_coord_file(xx,yy,fname):\n",
    "    test_result=\"\"\n",
    "    for i in range(len(xx)):\n",
    "        x=xx[i]\n",
    "        y=yy[i]\n",
    "        test_result += f\"{x:.6f}\" + (\" \"*(4 if y >= 0 else 3)) + f\"{y:.6f}\\n\"\n",
    "    test_result\n",
    "    file=open(fname + \".dat\",\"w\")\n",
    "    file.write(test_result)\n",
    "    file.close()"
   ]
  },
  {
   "cell_type": "markdown",
   "metadata": {},
   "source": [
    "Datos de simulación que ingresan a Xfoil y creación de archivo \"resultados\""
   ]
  },
  {
   "cell_type": "code",
   "execution_count": 26,
   "metadata": {},
   "outputs": [],
   "source": [
    "\n",
    "def run_simulation(i,j,k,fname=None):\n",
    "    xx,yy=get_coord_combi(i,j,k)\n",
    "    if fname is None:\n",
    "        fname=f\"results/sim_{i}_{j}_{k}\"\n",
    "    create_coord_file(xx,yy,fname)\n",
    "    strname = str(fname) + '.txt'\n",
    "    airfoil_name = fname\n",
    "    alpha_i = 3\n",
    "    alpha_f = 8\n",
    "    alpha_step = 1\n",
    "    Re = 1000000\n",
    "    n_iter = 100\n",
    "\n",
    "    # %% XFOIL input file writer \n",
    "\n",
    "    if os.path.exists(strname):\n",
    "        os.remove(strname)\n",
    "\n",
    "    input_file = open(fname+\".in\", 'w')\n",
    "    input_file.write(\"LOAD {0}.dat\\n\".format(airfoil_name))\n",
    "    input_file.write(airfoil_name + '\\n')\n",
    "    input_file.write(\"PANE\\n\")\n",
    "    input_file.write(\"OPER\\n\")\n",
    "    input_file.write(\"Visc {0}\\n\".format(Re))\n",
    "    input_file.write(\"PACC\\n\")\n",
    "    input_file.write(strname+\"\\n\\n \")\n",
    "    input_file.write(\"ITER {0}\\n\".format(n_iter))\n",
    "    input_file.write(\"ASeq {0} {1} {2}\\n\".format(alpha_i, alpha_f,\n",
    "                                                alpha_step))\n",
    "    input_file.write(\"\\n\\n\")\n",
    "    input_file.write(\"quit\\n\")\n",
    "    input_file.close()\n",
    "\n",
    "    subprocess.call(\"xfoil.exe < \"+fname+\".in\", shell=True)"
   ]
  },
  {
   "cell_type": "markdown",
   "metadata": {},
   "source": [
    "Se indica a Xfoil que corra los datos anteriores"
   ]
  },
  {
   "cell_type": "code",
   "execution_count": 27,
   "metadata": {},
   "outputs": [],
   "source": [
    "#for i in range(10,230,5):\n",
    "#   for j in range(10,230,5):\n",
    "#      for k in range(1,150,3):\n",
    "#         run_simulation(i,j,k)\n"
   ]
  },
  {
   "cell_type": "markdown",
   "metadata": {},
   "source": [
    "<h2>6. Lectura de archivos para comparar el mejor\n"
   ]
  },
  {
   "cell_type": "markdown",
   "metadata": {},
   "source": [
    "Lecutra de archivo"
   ]
  },
  {
   "cell_type": "code",
   "execution_count": 28,
   "metadata": {},
   "outputs": [],
   "source": [
    "def get_params_from_fname(fname):\n",
    "    params = re.search(r'sim_(\\d+(?:\\.\\d+)?)_(\\d+(?:\\.\\d+)?)_(\\d+(?:\\.\\d+)?)\\.txt', fname)\n",
    "    return [params.group(i) for i in range(1, 4)]"
   ]
  },
  {
   "cell_type": "markdown",
   "metadata": {},
   "source": [
    "Ingreso al documento para separar las columnas de los archivos "
   ]
  },
  {
   "cell_type": "code",
   "execution_count": 29,
   "metadata": {},
   "outputs": [],
   "source": [
    "def filter_empty(values):\n",
    "  return list(filter(lambda line: False if line == \"\" else True, values))\n",
    "\n",
    "def get_values(line):\n",
    "  values = re.split(r'\\s+', line)\n",
    "  values = filter_empty(values)\n",
    "  return list(map(float, values))\n",
    "\n",
    "def get_table(file):\n",
    "  match_ = re.search(r'((?:-{2,} *)+)', file)\n",
    "  match_.groups(1)\n",
    "  \n",
    "  table = file[match_.end(1): len(file)]\n",
    "  lines = table.split(\"\\n\")\n",
    "  lines = filter_empty(lines)\n",
    "\n",
    "  values = list(map(get_values, lines))\n",
    "  return values\n"
   ]
  },
  {
   "cell_type": "markdown",
   "metadata": {},
   "source": [
    "Calculo de la eficiencia dentro de los archivos "
   ]
  },
  {
   "cell_type": "code",
   "execution_count": 30,
   "metadata": {},
   "outputs": [],
   "source": [
    "def get_value(table):\n",
    "    cl_values=list(map(lambda line: line[1]/line[2], table))\n",
    "    max=np.max(cl_values)  \n",
    "    return max\n",
    "    #return cl_values[6]"
   ]
  },
  {
   "cell_type": "markdown",
   "metadata": {},
   "source": [
    "Por medio de \"Queue\" biblioteca de python se crea una lista de prioridad que permite ver el rango entre los parametros "
   ]
  },
  {
   "cell_type": "code",
   "execution_count": 31,
   "metadata": {},
   "outputs": [],
   "source": [
    "X=PriorityQueue()\n"
   ]
  },
  {
   "cell_type": "code",
   "execution_count": 32,
   "metadata": {},
   "outputs": [],
   "source": [
    "for name in glob.glob('./results/sim*.txt'):\n",
    "    f = open(name, \"r\")\n",
    "    content=f.read()\n",
    "    params=get_params_from_fname(name)\n",
    "    values = get_table(content)\n",
    "    result=get_value(values)\n",
    "    X.put((-result,params))#El orden da negativo pero no es el valor real, son positivos \n",
    "    f.close()"
   ]
  },
  {
   "cell_type": "markdown",
   "metadata": {},
   "source": [
    "<h1> 7. Lista ordenada de mejores eficiencias a peores"
   ]
  },
  {
   "cell_type": "code",
   "execution_count": 33,
   "metadata": {},
   "outputs": [
    {
     "data": {
      "text/plain": [
       "[]"
      ]
     },
     "metadata": {},
     "output_type": "display_data"
    }
   ],
   "source": [
    "n = 0\n",
    "top=[]\n",
    "while not X.empty():\n",
    "    priority,params = X.get()\n",
    "    priority*=-1\n",
    "    top.append((priority,params))\n",
    "    n += 1\n",
    "display(top)"
   ]
  },
  {
   "cell_type": "markdown",
   "metadata": {},
   "source": [
    "<h2> Graficas que muestran el comportamiento de las diferentes combinaciones"
   ]
  },
  {
   "cell_type": "markdown",
   "metadata": {},
   "source": [
    "Separación de formato "
   ]
  },
  {
   "cell_type": "code",
   "execution_count": 34,
   "metadata": {},
   "outputs": [],
   "source": [
    "CL=[]\n",
    "I=[]\n",
    "J=[]\n",
    "K=[]\n",
    "for cl, (i, j, k) in top:\n",
    "    CL.append(cl)\n",
    "    I.append(float(i))\n",
    "    J.append(float(j))\n",
    "    K.append(float(k))\n"
   ]
  },
  {
   "cell_type": "markdown",
   "metadata": {},
   "source": [
    "Impresión de grafico que muestra el comportamiento de los parametros combinados y la eficiencia de cada combinación\n"
   ]
  },
  {
   "cell_type": "code",
   "execution_count": 35,
   "metadata": {},
   "outputs": [
    {
     "data": {
      "image/png": "[encoded data removed]",
      "text/plain": [
       "<Figure size 1200x800 with 2 Axes>"
      ]
     },
     "metadata": {},
     "output_type": "display_data"
    }
   ],
   "source": [
    "# Create a colormap\n",
    "cmap = plt.get_cmap('rainbow')  # You can change the colormap as needed\n",
    "\n",
    "# Create a figure and 3D axes\n",
    "fig = plt.figure(figsize=(12, 8))\n",
    "ax = fig.add_subplot(111, projection='3d')\n",
    "\n",
    "# Create the scatter plot\n",
    "scatter = ax.scatter(I, J, K, c=CL, cmap=cmap, marker='o')\n",
    "\n",
    "# Add color bar\n",
    "cbar = plt.colorbar(scatter)\n",
    "cbar.set_label('Cl/Cd (ddyemax, ddyimin, alpha )')\n",
    "\n",
    "# Set axis labels\n",
    "ax.set_xlabel('ddyemax')\n",
    "ax.set_ylabel('ddyimin')\n",
    "ax.set_zlabel('alpha')\n",
    "\n",
    "# Show the plot\n",
    "plt.show()"
   ]
  },
  {
   "cell_type": "markdown",
   "metadata": {},
   "source": []
  },
  {
   "cell_type": "code",
   "execution_count": 46,
   "metadata": {},
   "outputs": [],
   "source": [
    "uid=int(0)\n",
    "def evalue_sim(x):\n",
    "    global uid\n",
    "    i,j,k=x\n",
    "    name=f\"results/_sim_{uid}\"\n",
    "    name2=name\n",
    "    run_simulation(i,j,k,fname=name) #asignar a la fuerza un nombre \n",
    "    name+=\".txt\"\n",
    "    f = open(name, \"r\")\n",
    "    content=f.read()\n",
    "    values = get_table(content)\n",
    "    result=get_value(values)\n",
    "    f.close()\n",
    "    os.remove(name)\n",
    "    os.remove(name2+\".dat\")\n",
    "    os.remove(name2+\".in\")\n",
    "    uid+=1\n",
    "    return result"
   ]
  },
  {
   "cell_type": "code",
   "execution_count": 37,
   "metadata": {},
   "outputs": [
    {
     "data": {
      "text/plain": [
       " message: ['Maximum number of iteration reached']\n",
       " success: True\n",
       "  status: 0\n",
       "     fun: -162.9350104821803\n",
       "       x: [ 9.479e+01  3.378e+01  1.248e+02]\n",
       "     nit: 1000\n",
       "    nfev: 6061\n",
       "    njev: 15\n",
       "    nhev: 0"
      ]
     },
     "execution_count": 37,
     "metadata": {},
     "output_type": "execute_result"
    }
   ],
   "source": [
    "rangei=(10,230)\n",
    "rangej=(10,230)\n",
    "rangek=(10,150)\n",
    "maxim = dual_annealing(lambda p:-evalue_sim(p), bounds=(rangei, rangej, rangek),maxiter=1000)\n",
    "maxim"
   ]
  },
  {
   "cell_type": "code",
   "execution_count": 41,
   "metadata": {},
   "outputs": [
    {
     "data": {
      "text/plain": [
       "array([ 94.79028591,  33.77716406, 124.81225246])"
      ]
     },
     "execution_count": 41,
     "metadata": {},
     "output_type": "execute_result"
    }
   ],
   "source": [
    "maxim.x"
   ]
  },
  {
   "cell_type": "code",
   "execution_count": 47,
   "metadata": {},
   "outputs": [
    {
     "data": {
      "text/plain": [
       "162.9350104821803"
      ]
     },
     "execution_count": 47,
     "metadata": {},
     "output_type": "execute_result"
    }
   ],
   "source": [
    "evalue_sim(maxim.x)"
   ]
  },
  {
   "cell_type": "code",
   "execution_count": null,
   "metadata": {},
   "outputs": [],
   "source": []
  }
 ],
 "metadata": {
  "kernelspec": {
   "display_name": "Python 3",
   "language": "python",
   "name": "python3"
  },
  "language_info": {
   "codemirror_mode": {
    "name": "ipython",
    "version": 3
   },
   "file_extension": ".py",
   "mimetype": "text/x-python",
   "name": "python",
   "nbconvert_exporter": "python",
   "pygments_lexer": "ipython3",
   "version": "3.10.11"
  },
  "orig_nbformat": 4
 },
 "nbformat": 4,
 "nbformat_minor": 2
}
