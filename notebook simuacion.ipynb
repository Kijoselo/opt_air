{
 "cells": [
  {
   "cell_type": "code",
   "execution_count": 198,
   "metadata": {},
   "outputs": [
    {
     "name": "stdout",
     "output_type": "stream",
     "text": [
      "Requirement already satisfied: sympy in c:\\users\\josea\\appdata\\local\\programs\\python\\python310\\lib\\site-packages (1.12)\n",
      "Requirement already satisfied: mpmath>=0.19 in c:\\users\\josea\\appdata\\local\\programs\\python\\python310\\lib\\site-packages (from sympy) (1.3.0)\n",
      "Note: you may need to restart the kernel to use updated packages.\n"
     ]
    }
   ],
   "source": [
    "%pip install sympy"
   ]
  },
  {
   "cell_type": "markdown",
   "metadata": {},
   "source": [
    "<h2>Importación</h2>"
   ]
  },
  {
   "cell_type": "code",
   "execution_count": 233,
   "metadata": {},
   "outputs": [],
   "source": [
    "import numpy as np\n",
    "import math\n",
    "import ansys.math.core.math as pymath\n",
    "import sympy\n",
    "import matplotlib.pyplot as plt\n",
    "from scipy.optimize import fsolve"
   ]
  },
  {
   "cell_type": "markdown",
   "metadata": {},
   "source": [
    "<h1>->Optimización de silueta NACA 2412 </h>"
   ]
  },
  {
   "cell_type": "markdown",
   "metadata": {},
   "source": [
    "<h2>1. Ingreso de coordenadas [x,y] para extrados e intrados</h2>"
   ]
  },
  {
   "cell_type": "markdown",
   "metadata": {},
   "source": [
    "Nota: Se elimino el valor de conexión entre extrados e intrados [0,0]"
   ]
  },
  {
   "cell_type": "markdown",
   "metadata": {},
   "source": [
    "-> Extrados"
   ]
  },
  {
   "cell_type": "code",
   "execution_count": 200,
   "metadata": {},
   "outputs": [
    {
     "name": "stdout",
     "output_type": "stream",
     "text": [
      "xe \t ye\n",
      "1.000 \t 0.000\n",
      "0.976 \t 0.005\n",
      "0.795 \t 0.038\n",
      "0.501 \t 0.072\n",
      "0.203 \t 0.073\n",
      "0.022 \t 0.028\n"
     ]
    }
   ],
   "source": [
    "xe=[1.0000, 0.975752, 0.795047, 0.500587, 0.203313, 0.022051]\n",
    "ye=[0.00000, 0.005092,0.03776, 0.0723030, 0.072945, 0.028152]\n",
    "print(\"xe\",\"\\t\",\"ye\")\n",
    "matrix_length = len(xe)\n",
    "matrix_lenght=xe\n",
    "for i in range(matrix_length):\n",
    "    print(f\"{xe[i]:.3f}\",\"\\t\",f\"{ye[i]:.3f}\") "
   ]
  },
  {
   "cell_type": "markdown",
   "metadata": {},
   "source": [
    "-> Intrados"
   ]
  },
  {
   "cell_type": "code",
   "execution_count": 201,
   "metadata": {},
   "outputs": [
    {
     "name": "stdout",
     "output_type": "stream",
     "text": [
      "xi \t yi\n",
      "0.027 \t -0.023\n",
      "0.209 \t -0.042\n",
      "0.499 \t -0.033\n",
      "0.793 \t -0.015\n",
      "0.975 \t -0.002\n",
      "1.000 \t 0.000\n"
     ]
    }
   ],
   "source": [
    "xi=[0.026892, 0.208902,0.499413,0.792738,0.975305,1]\n",
    "yi=[-0.023408,-0.042343,-0.033414,-0.014999,-0.001896,0]\n",
    "print(\"xi\",\"\\t\",\"yi\")\n",
    "matrix_length = len(xi)\n",
    "for i in range(matrix_length):\n",
    "    print(f\"{xi[i]:.3f}\",\"\\t\",f\"{yi[i]:.3f}\") "
   ]
  },
  {
   "cell_type": "markdown",
   "metadata": {},
   "source": [
    "<h2>2. Sistema de ecuaciones para encontrar los coeficientes \"a\" del extrados e intrados</h2>"
   ]
  },
  {
   "cell_type": "markdown",
   "metadata": {},
   "source": [
    "->Extrados"
   ]
  },
  {
   "cell_type": "code",
   "execution_count": 202,
   "metadata": {},
   "outputs": [
    {
     "name": "stdout",
     "output_type": "stream",
     "text": [
      "[ 0.19191681 -0.09903084 -0.3222481   0.44879009 -0.2805838   0.06115584]\n"
     ]
    }
   ],
   "source": [
    "A = np.array([[pow(xe[j], i + 0.5) for i in range(0, 6)] for j in range(0, 6)])\n",
    "b = np.array(ye)\n",
    "sol_e = np.linalg.solve(A, b)\n",
    "print(sol_e)"
   ]
  },
  {
   "cell_type": "markdown",
   "metadata": {},
   "source": [
    "-> Intrados"
   ]
  },
  {
   "cell_type": "code",
   "execution_count": 203,
   "metadata": {},
   "outputs": [
    {
     "name": "stdout",
     "output_type": "stream",
     "text": [
      "[-0.15287633  0.39382672 -0.65334572  0.82318861 -0.57512754  0.16433426]\n"
     ]
    }
   ],
   "source": [
    "A = np.array([[pow(xi[j], i + 0.5) for i in range(0, 6)] for j in range(0, 6)])\n",
    "b = np.array(yi)\n",
    "sol_i = np.linalg.solve(A, b)\n",
    "print(sol_i)"
   ]
  },
  {
   "cell_type": "markdown",
   "metadata": {},
   "source": [
    "<h2>NOTA: aquí se verifican los resultados posteriores para y\"emáx, y\"imin, x_emax & x_imin"
   ]
  },
  {
   "cell_type": "markdown",
   "metadata": {},
   "source": [
    "-> Calcular X_emax \n"
   ]
  },
  {
   "cell_type": "code",
   "execution_count": 204,
   "metadata": {},
   "outputs": [
    {
     "name": "stdout",
     "output_type": "stream",
     "text": [
      "x_eemax= 0.3360826350308561\n"
     ]
    },
    {
     "data": {
      "text/latex": [
       "$\\displaystyle 0.191916805800967 xee^{0.5} - 0.0990308397506673 xee^{1.5} - 0.322248096918326 xee^{2.5} + 0.448790093670569 xee^{3.5} - 0.280583798608767 xee^{4.5} + 0.0611558358062234 xee^{5.5}$"
      ],
      "text/plain": [
       "0.191916805800967*xee**0.5 - 0.0990308397506673*xee**1.5 - 0.322248096918326*xee**2.5 + 0.448790093670569*xee**3.5 - 0.280583798608767*xee**4.5 + 0.0611558358062234*xee**5.5"
      ]
     },
     "metadata": {},
     "output_type": "display_data"
    }
   ],
   "source": [
    "xee = sympy.symbols('xee')\n",
    "fe = sum(sol_e[i]*xee**(i + 0.5) for i in range(0, 6))\n",
    "\n",
    "dy = sympy.diff(fe, xee)\n",
    "\n",
    "sol = sympy.solve(dy, xee)\n",
    "\n",
    "def is_sol(xee):\n",
    "    if sympy.im(xee) != 0:\n",
    "        return False\n",
    "    if xee < 0 or xee > 1:\n",
    "        return False\n",
    "    return True\n",
    "\n",
    "x_eemax =float([xee for xee in sol if is_sol(xee)][0])\n",
    "print(\"x_eemax=\",x_eemax)\n",
    "display(fe)"
   ]
  },
  {
   "cell_type": "markdown",
   "metadata": {},
   "source": [
    "-> Calcular X_imax "
   ]
  },
  {
   "cell_type": "code",
   "execution_count": 205,
   "metadata": {},
   "outputs": [
    {
     "name": "stdout",
     "output_type": "stream",
     "text": [
      "x_imin= 0.22236238785873258\n"
     ]
    },
    {
     "data": {
      "text/latex": [
       "$\\displaystyle - 0.152876334737036 xii^{0.5} + 0.393826724895681 xii^{1.5} - 0.653345724088194 xii^{2.5} + 0.823188610271216 xii^{3.5} - 0.57512753609923 xii^{4.5} + 0.164334259757563 xii^{5.5}$"
      ],
      "text/plain": [
       "-0.152876334737036*xii**0.5 + 0.393826724895681*xii**1.5 - 0.653345724088194*xii**2.5 + 0.823188610271216*xii**3.5 - 0.57512753609923*xii**4.5 + 0.164334259757563*xii**5.5"
      ]
     },
     "metadata": {},
     "output_type": "display_data"
    }
   ],
   "source": [
    "xii = sympy.symbols('xii')\n",
    "fi = sum(sol_i[i]*xii**(i + 0.5) for i in range(0, 6))\n",
    "\n",
    "dy = sympy.diff(fi, xii)\n",
    "\n",
    "sol = sympy.solve(dy, xii)\n",
    "\n",
    "def is_sol(xii):\n",
    "    if sympy.im(xii) != 0:\n",
    "        return False\n",
    "    if xii < 0 or xii > 1:\n",
    "        return False\n",
    "    return True\n",
    "\n",
    "x_imin = float([xii for xii in sol if is_sol(xii)][0])\n",
    "print(\"x_imin=\",x_imin)\n",
    "display(fi)\n",
    "\n"
   ]
  },
  {
   "cell_type": "markdown",
   "metadata": {},
   "source": [
    "<h2>3. Calculo de los parametros del perfil<\\h2>"
   ]
  },
  {
   "cell_type": "markdown",
   "metadata": {},
   "source": [
    "-> Variables simbolicas, no son numeros"
   ]
  },
  {
   "cell_type": "code",
   "execution_count": 206,
   "metadata": {},
   "outputs": [],
   "source": [
    "y_emax, y_imax, alpha, beta, y_bs, deltay_bs, x_emax, x_imax, dy_emax, dy_imax, r_ba=sympy.symbols(\"y_emax, y_imax, alpha, beta, y_bs, deltay_bs, x_emax,x_imax, dy_emax, dy_imax, r_ba\")"
   ]
  },
  {
   "cell_type": "code",
   "execution_count": 207,
   "metadata": {},
   "outputs": [],
   "source": [
    "ae=sympy.symbols(\"ae:6\")\n",
    "ai=sympy.symbols(\"ai:6\")\n"
   ]
  },
  {
   "cell_type": "markdown",
   "metadata": {},
   "source": [
    "-> Iteradores"
   ]
  },
  {
   "cell_type": "code",
   "execution_count": 208,
   "metadata": {},
   "outputs": [],
   "source": [
    "k=sympy.symbols(\"k\",integer=True)"
   ]
  },
  {
   "cell_type": "markdown",
   "metadata": {},
   "source": [
    "-> Ecuaciones a resolver"
   ]
  },
  {
   "cell_type": "code",
   "execution_count": 209,
   "metadata": {},
   "outputs": [],
   "source": [
    "eq1=sympy.sqrt(2*r_ba)+ai[0]\n",
    "#extrados\n",
    "eq2 =sum([ae[k-1]*pow(x_emax, k-0.5) for k in range(1, 7)])-y_emax\n",
    "eq3=sum([(k-0.5)*ae[k-1]*pow(x_emax, k-1.5) for k in range(1, 7)])\n",
    "eq4=sum([(k-1.5)*(k-0.5)*ae[k-1]*pow(x_emax, k-2.5) for k in range(1, 7)])-dy_emax\n",
    "eq5=sum([ae[k-1] for k in range(1, 7)])-y_bs-0.5*deltay_bs    #ybs+deltaybs esto tiene que ser 0 porque se encuentra la punta cerrada y conectada en el eje x\n",
    "eq6=sum([(k-0.5)*ae[k-1] for k in range(1, 7)])-sympy.tan((2*alpha-beta)/2)\n",
    "#intrados \n",
    "eq7=sum([ai[k-1]*pow(x_imax, k-0.5) for k in range(1, 7)])-y_imax\n",
    "eq8=sum([(k-0.5)*ai[k-1]*pow(x_imax, k-1.5) for k in range(1, 7)])\n",
    "eq9=sum([(k-1.5)*(k-0.5)*ai[k-1]*pow(x_imax, k-2.5) for k in range(1, 7)])-dy_imax\n",
    "eq10=sum([ai[k-1] for k in range(1, 7)])-y_bs-0.5*deltay_bs   #ybs+deltaybs esto tiene que ser 0 porque se encuentra la punta cerrada y conectada en el eje x\n",
    "eq11=sum([(k-0.5)*ai[k-1] for k in range(1, 7)])-sympy.tan((2*alpha+beta)/2)\n",
    "#Fueron igualadas a 0 para crear el sistema de solución con ayuda de sympy"
   ]
  },
  {
   "cell_type": "markdown",
   "metadata": {},
   "source": [
    "-> Impresión y verificación "
   ]
  },
  {
   "cell_type": "code",
   "execution_count": 210,
   "metadata": {},
   "outputs": [
    {
     "data": {
      "text/latex": [
       "$\\displaystyle ai_{0} + \\sqrt{2} \\sqrt{r_{ba}}$"
      ],
      "text/plain": [
       "ai0 + sqrt(2)*sqrt(r_ba)"
      ]
     },
     "metadata": {},
     "output_type": "display_data"
    },
    {
     "data": {
      "text/latex": [
       "$\\displaystyle ae_{0} x_{emax}^{0.5} + ae_{1} x_{emax}^{1.5} + ae_{2} x_{emax}^{2.5} + ae_{3} x_{emax}^{3.5} + ae_{4} x_{emax}^{4.5} + ae_{5} x_{emax}^{5.5} - y_{emax}$"
      ],
      "text/plain": [
       "ae0*x_emax**0.5 + ae1*x_emax**1.5 + ae2*x_emax**2.5 + ae3*x_emax**3.5 + ae4*x_emax**4.5 + ae5*x_emax**5.5 - y_emax"
      ]
     },
     "metadata": {},
     "output_type": "display_data"
    },
    {
     "data": {
      "text/latex": [
       "$\\displaystyle \\frac{0.5 ae_{0}}{x_{emax}^{0.5}} + 1.5 ae_{1} x_{emax}^{0.5} + 2.5 ae_{2} x_{emax}^{1.5} + 3.5 ae_{3} x_{emax}^{2.5} + 4.5 ae_{4} x_{emax}^{3.5} + 5.5 ae_{5} x_{emax}^{4.5}$"
      ],
      "text/plain": [
       "0.5*ae0/x_emax**0.5 + 1.5*ae1*x_emax**0.5 + 2.5*ae2*x_emax**1.5 + 3.5*ae3*x_emax**2.5 + 4.5*ae4*x_emax**3.5 + 5.5*ae5*x_emax**4.5"
      ]
     },
     "metadata": {},
     "output_type": "display_data"
    },
    {
     "data": {
      "text/latex": [
       "$\\displaystyle - \\frac{0.25 ae_{0}}{x_{emax}^{1.5}} + \\frac{0.75 ae_{1}}{x_{emax}^{0.5}} + 3.75 ae_{2} x_{emax}^{0.5} + 8.75 ae_{3} x_{emax}^{1.5} + 15.75 ae_{4} x_{emax}^{2.5} + 24.75 ae_{5} x_{emax}^{3.5} - dy_{emax}$"
      ],
      "text/plain": [
       "-0.25*ae0/x_emax**1.5 + 0.75*ae1/x_emax**0.5 + 3.75*ae2*x_emax**0.5 + 8.75*ae3*x_emax**1.5 + 15.75*ae4*x_emax**2.5 + 24.75*ae5*x_emax**3.5 - dy_emax"
      ]
     },
     "metadata": {},
     "output_type": "display_data"
    },
    {
     "data": {
      "text/latex": [
       "$\\displaystyle ae_{0} + ae_{1} + ae_{2} + ae_{3} + ae_{4} + ae_{5} - 0.5 deltay_{bs} - y_{bs}$"
      ],
      "text/plain": [
       "ae0 + ae1 + ae2 + ae3 + ae4 + ae5 - 0.5*deltay_bs - y_bs"
      ]
     },
     "metadata": {},
     "output_type": "display_data"
    },
    {
     "data": {
      "text/latex": [
       "$\\displaystyle 0.5 ae_{0} + 1.5 ae_{1} + 2.5 ae_{2} + 3.5 ae_{3} + 4.5 ae_{4} + 5.5 ae_{5} - \\tan{\\left(\\alpha - \\frac{\\beta}{2} \\right)}$"
      ],
      "text/plain": [
       "0.5*ae0 + 1.5*ae1 + 2.5*ae2 + 3.5*ae3 + 4.5*ae4 + 5.5*ae5 - tan(alpha - beta/2)"
      ]
     },
     "metadata": {},
     "output_type": "display_data"
    },
    {
     "data": {
      "text/latex": [
       "$\\displaystyle ai_{0} x_{imax}^{0.5} + ai_{1} x_{imax}^{1.5} + ai_{2} x_{imax}^{2.5} + ai_{3} x_{imax}^{3.5} + ai_{4} x_{imax}^{4.5} + ai_{5} x_{imax}^{5.5} - y_{imax}$"
      ],
      "text/plain": [
       "ai0*x_imax**0.5 + ai1*x_imax**1.5 + ai2*x_imax**2.5 + ai3*x_imax**3.5 + ai4*x_imax**4.5 + ai5*x_imax**5.5 - y_imax"
      ]
     },
     "metadata": {},
     "output_type": "display_data"
    },
    {
     "data": {
      "text/latex": [
       "$\\displaystyle \\frac{0.5 ai_{0}}{x_{imax}^{0.5}} + 1.5 ai_{1} x_{imax}^{0.5} + 2.5 ai_{2} x_{imax}^{1.5} + 3.5 ai_{3} x_{imax}^{2.5} + 4.5 ai_{4} x_{imax}^{3.5} + 5.5 ai_{5} x_{imax}^{4.5}$"
      ],
      "text/plain": [
       "0.5*ai0/x_imax**0.5 + 1.5*ai1*x_imax**0.5 + 2.5*ai2*x_imax**1.5 + 3.5*ai3*x_imax**2.5 + 4.5*ai4*x_imax**3.5 + 5.5*ai5*x_imax**4.5"
      ]
     },
     "metadata": {},
     "output_type": "display_data"
    },
    {
     "data": {
      "text/latex": [
       "$\\displaystyle - \\frac{0.25 ai_{0}}{x_{imax}^{1.5}} + \\frac{0.75 ai_{1}}{x_{imax}^{0.5}} + 3.75 ai_{2} x_{imax}^{0.5} + 8.75 ai_{3} x_{imax}^{1.5} + 15.75 ai_{4} x_{imax}^{2.5} + 24.75 ai_{5} x_{imax}^{3.5} - dy_{imax}$"
      ],
      "text/plain": [
       "-0.25*ai0/x_imax**1.5 + 0.75*ai1/x_imax**0.5 + 3.75*ai2*x_imax**0.5 + 8.75*ai3*x_imax**1.5 + 15.75*ai4*x_imax**2.5 + 24.75*ai5*x_imax**3.5 - dy_imax"
      ]
     },
     "metadata": {},
     "output_type": "display_data"
    },
    {
     "data": {
      "text/latex": [
       "$\\displaystyle ai_{0} + ai_{1} + ai_{2} + ai_{3} + ai_{4} + ai_{5} - 0.5 deltay_{bs} - y_{bs}$"
      ],
      "text/plain": [
       "ai0 + ai1 + ai2 + ai3 + ai4 + ai5 - 0.5*deltay_bs - y_bs"
      ]
     },
     "metadata": {},
     "output_type": "display_data"
    },
    {
     "data": {
      "text/latex": [
       "$\\displaystyle 0.5 ai_{0} + 1.5 ai_{1} + 2.5 ai_{2} + 3.5 ai_{3} + 4.5 ai_{4} + 5.5 ai_{5} - \\tan{\\left(\\alpha + \\frac{\\beta}{2} \\right)}$"
      ],
      "text/plain": [
       "0.5*ai0 + 1.5*ai1 + 2.5*ai2 + 3.5*ai3 + 4.5*ai4 + 5.5*ai5 - tan(alpha + beta/2)"
      ]
     },
     "metadata": {},
     "output_type": "display_data"
    }
   ],
   "source": [
    "display(eq1)\n",
    "display(eq2)\n",
    "display(eq3)\n",
    "display(eq4)\n",
    "display(eq5)\n",
    "display(eq6)\n",
    "display(eq7)\n",
    "display(eq8)\n",
    "display(eq9)\n",
    "display(eq10)\n",
    "display(eq11)"
   ]
  },
  {
   "cell_type": "markdown",
   "metadata": {},
   "source": [
    "<h2>->Simplificación con suposición"
   ]
  },
  {
   "cell_type": "code",
   "execution_count": 211,
   "metadata": {},
   "outputs": [
    {
     "data": {
      "text/latex": [
       "$\\displaystyle \\sqrt{2} \\sqrt{r_{ba}} - 0.152876334737036$"
      ],
      "text/plain": [
       "sqrt(2)*sqrt(r_ba) - 0.152876334737036"
      ]
     },
     "metadata": {},
     "output_type": "display_data"
    },
    {
     "data": {
      "text/latex": [
       "$\\displaystyle 0.0788166401285028 - y_{emax}$"
      ],
      "text/plain": [
       "0.0788166401285028 - y_emax"
      ]
     },
     "metadata": {},
     "output_type": "display_data"
    },
    {
     "data": {
      "text/latex": [
       "$\\displaystyle - dy_{emax} - 0.565890153534551$"
      ],
      "text/plain": [
       "-dy_emax - 0.565890153534551"
      ]
     },
     "metadata": {},
     "output_type": "display_data"
    },
    {
     "data": {
      "text/latex": [
       "$\\displaystyle - \\tan{\\left(\\alpha - \\frac{\\beta}{2} \\right)} - 0.213712767979562$"
      ],
      "text/plain": [
       "-tan(alpha - beta/2) - 0.213712767979562"
      ]
     },
     "metadata": {},
     "output_type": "display_data"
    },
    {
     "data": {
      "text/latex": [
       "$\\displaystyle - y_{imax} - 0.0423807463583142$"
      ],
      "text/plain": [
       "-y_imax - 0.0423807463583142"
      ]
     },
     "metadata": {},
     "output_type": "display_data"
    },
    {
     "data": {
      "text/latex": [
       "$\\displaystyle 0.400692253040476 - dy_{imax}$"
      ],
      "text/plain": [
       "0.400692253040476 - dy_imax"
      ]
     },
     "metadata": {},
     "output_type": "display_data"
    },
    {
     "data": {
      "text/latex": [
       "$\\displaystyle 0.0778622619238377 - \\tan{\\left(\\alpha + \\frac{\\beta}{2} \\right)}$"
      ],
      "text/plain": [
       "0.0778622619238377 - tan(alpha + beta/2)"
      ]
     },
     "metadata": {},
     "output_type": "display_data"
    }
   ],
   "source": [
    "eq=[eq1, eq2,  eq4 , eq6, eq7, eq9, eq11] #Se crea un grupo para todas las ecuaciones, NOTA SE ELIMINA 3,5,8, 10 PORQUE VALEN 0!!!!\n",
    "for i in range(len(eq)):\n",
    "    for j in range(len(sol_e)):\n",
    "        eq[i]=eq[i].subs(ae[j],sol_e[j])\n",
    "    for j in range(len(sol_i)):\n",
    "        eq[i]=eq[i].subs(ai[j],sol_i[j])\n",
    "    eq[i]=eq[i].subs({ 'x_emax':x_eemax, 'x_imax':x_imin, 'deltay_bs':0, 'y_bs':0 }) #con derivadas se determina rapidamente estos valores para ayudar al solver\n",
    "\n",
    "for e in eq:\n",
    "    display(e) #todo esta igualado a cero"
   ]
  },
  {
   "cell_type": "markdown",
   "metadata": {},
   "source": [
    "<h2>->Solver </h2>"
   ]
  },
  {
   "cell_type": "code",
   "execution_count": 212,
   "metadata": {},
   "outputs": [],
   "source": [
    "def sistema_ecuaciones(x):\n",
    "    eqv = list(map(lambda eq: float(eq.subs({  #programación funcional \n",
    "       'r_ba': x[0],\n",
    "       'y_emax': x[1],\n",
    "       'dy_emax': x[2],\n",
    "       'alpha': x[3],\n",
    "       'beta':x[5],\n",
    "       'dy_imax': x[6],\n",
    "       'y_imax':x[4]\n",
    "    })),eq))\n",
    "\n",
    "    return eqv\n"
   ]
  },
  {
   "cell_type": "code",
   "execution_count": 213,
   "metadata": {},
   "outputs": [
    {
     "name": "stdout",
     "output_type": "stream",
     "text": [
      "Soluciones aproximadas:\n",
      "0.0117\n",
      "0.0788\n",
      "-0.5659\n",
      "-0.0664\n",
      "-0.0424\n",
      "0.2883\n",
      "0.4007\n"
     ]
    }
   ],
   "source": [
    "# Valores iniciales para las variables\n",
    "x0 = np.zeros(len(eq))\n",
    "\n",
    "# Resolver el sistema de ecuaciones\n",
    "solucion = fsolve(sistema_ecuaciones, x0)\n",
    "\n",
    "# Mostrar las soluciones aproximadas\n",
    "print(\"Soluciones aproximadas:\")\n",
    "for i in solucion:\n",
    "  print(\"%.4f\" % i)\n"
   ]
  },
  {
   "cell_type": "code",
   "execution_count": 214,
   "metadata": {},
   "outputs": [],
   "source": [
    "sol=np.array([*solucion]) #sprad operador de esparcir \n"
   ]
  },
  {
   "cell_type": "code",
   "execution_count": 215,
   "metadata": {},
   "outputs": [
    {
     "name": "stdout",
     "output_type": "stream",
     "text": [
      "[80, 80, 80]\n",
      "[80, 80, 81]\n",
      "[80, 80, 82]\n"
     ]
    }
   ],
   "source": [
    "def generate_combi():\n",
    "    for i in range(80, 120):\n",
    "        for j in range(80, 120):\n",
    "            for k in range(80, 120):\n",
    "                yield [i, j, k]\n",
    "\n",
    "gen = generate_combi()\n",
    "\n",
    "print(next(gen))\n",
    "print(next(gen))\n",
    "print(next(gen))"
   ]
  },
  {
   "cell_type": "code",
   "execution_count": 223,
   "metadata": {},
   "outputs": [],
   "source": [
    "def evalue_combi(i,j,k):\n",
    "    i, j, k = i / 100, j/100, k/100\n",
    "    sol[2]=solucion[2]*i\n",
    "    sol[3]=solucion[3]*j\n",
    "    sol[6]=solucion[6]*k\n",
    "    eq1=[1.0,0,0,0,0,0]\n",
    "    #extrados\n",
    "    eq2 =[pow(x_eemax, k-0.5) for k in range(1, 7)]\n",
    "    eq3=[(k-0.5)*pow(x_eemax, k-1.5) for k in range(1, 7)]\n",
    "    eq4=[(k-1.5)*(k-0.5)*pow(x_eemax, k-2.5) for k in range(1, 7)]\n",
    "    eq5=[1 for k in range(1, 7)]  #ybs+deltaybs esto tiene que ser 0 porque se encuentra la punta cerrada y conectada en el eje x\n",
    "    eq6=[(k-0.5) for k in range(1, 7)]\n",
    "    #intrados \n",
    "    eq7=[pow(x_imin, k-0.5) for k in range(1, 7)]\n",
    "    eq8=[(k-0.5)*pow(x_imin, k-1.5) for k in range(1, 7)]\n",
    "    eq9=[(k-1.5)*(k-0.5)*pow(x_imin, k-2.5) for k in range(1, 7)]\n",
    "    eq10=[1 for k in range(1, 7)] #ybs+deltaybs esto tiene que ser 0 porque se encuentra la punta cerrada y conectada en el eje x\n",
    "    eq11=[(k-0.5) for k in range(1, 7)]\n",
    "    eq12=[-1.0,0,0,0,0,0]\n",
    "\n",
    "    ve=[math.sqrt(2*sol[0]),sol[1],0,sol[2],0,math.tan((2*sol[3]-sol[5])/2)]\n",
    "    vi=[sol[4],0,sol[6],0,math.tan((2*sol[3]+sol[5])/2),math.sqrt(2*sol[0])]     \n",
    "    Ae=[eq1,eq2,eq3,eq4,eq5,eq6]\n",
    "    Ai=[eq7,eq8,eq9,eq10,eq11,eq12]\n",
    "    vi\n",
    "    sole=np.linalg.solve(Ae,ve)\n",
    "    display(sole)\n",
    "    soli=np.linalg.solve(Ai,vi)\n",
    "    display(soli)\n",
    "    return(sole, soli)"
   ]
  },
  {
   "cell_type": "code",
   "execution_count": 296,
   "metadata": {},
   "outputs": [],
   "source": [
    "def plot_combi(i,j,k):\n",
    "    sole,soli=evalue_combi(i,j,k)\n",
    "    x=np.arange(0,1.001,0.001)\n",
    "    fee = sum(sole[i]*x**(i + 0.5) for i in range(0, 6))\n",
    "    fii = sum(soli[i]*x**(i + 0.5) for i in range(0, 6))\n",
    "    plt.plot(x,fee)\n",
    "    plt.plot(x,fii)"
   ]
  },
  {
   "cell_type": "code",
   "execution_count": 297,
   "metadata": {},
   "outputs": [
    {
     "data": {
      "text/plain": [
       "array([ 0.15287633,  0.51808061, -3.6189975 ,  8.10623714, -8.01296781,\n",
       "        2.85477122])"
      ]
     },
     "metadata": {},
     "output_type": "display_data"
    },
    {
     "data": {
      "text/plain": [
       "array([-0.15287633,  0.31649653,  0.19410775, -2.18178643,  3.16827258,\n",
       "       -1.3442141 ])"
      ]
     },
     "metadata": {},
     "output_type": "display_data"
    },
    {
     "data": {
      "text/plain": [
       "array([ 0.15287633,  0.13693546, -0.57073891, -0.30940853,  1.26761103,\n",
       "       -0.67727539])"
      ]
     },
     "metadata": {},
     "output_type": "display_data"
    },
    {
     "data": {
      "text/plain": [
       "array([-0.15287633,  0.47116096, -1.50085779,  3.82846349, -4.31914066,\n",
       "        1.67325034])"
      ]
     },
     "metadata": {},
     "output_type": "display_data"
    },
    {
     "data": {
      "text/plain": [
       "array([ 0.15287633,  0.40015935, -2.6690062 ,  5.45458315, -5.03952294,\n",
       "        1.7009103 ])"
      ]
     },
     "metadata": {},
     "output_type": "display_data"
    },
    {
     "data": {
      "text/plain": [
       "array([-0.15287633,  0.37008046, -0.3911798 , -0.11888764,  0.63086378,\n",
       "       -0.33800046])"
      ]
     },
     "metadata": {},
     "output_type": "display_data"
    },
    {
     "data": {
      "text/plain": [
       "array([ 0.15287633,  0.32754003, -2.09518581,  3.89954975, -3.37437109,\n",
       "        1.08959079])"
      ]
     },
     "metadata": {},
     "output_type": "display_data"
    },
    {
     "data": {
      "text/plain": [
       "array([-0.15287633,  0.39382672, -0.65334572,  0.82318861, -0.57512754,\n",
       "        0.16433426])"
      ]
     },
     "metadata": {},
     "output_type": "display_data"
    },
    {
     "data": {
      "image/png": "[encoded data removed]",
      "text/plain": [
       "<Figure size 2500x600 with 1 Axes>"
      ]
     },
     "metadata": {},
     "output_type": "display_data"
    }
   ],
   "source": [
    "plt.figure(figsize=(25,6))\n",
    "plot_combi(50,50,50,)\n",
    "plot_combi(150,150,150)\n",
    "plot_combi(80,120,85)\n",
    "plot_combi(100,100,100)"
   ]
  },
  {
   "cell_type": "code",
   "execution_count": null,
   "metadata": {},
   "outputs": [],
   "source": []
  }
 ],
 "metadata": {
  "kernelspec": {
   "display_name": "Python 3",
   "language": "python",
   "name": "python3"
  },
  "language_info": {
   "codemirror_mode": {
    "name": "ipython",
    "version": 3
   },
   "file_extension": ".py",
   "mimetype": "text/x-python",
   "name": "python",
   "nbconvert_exporter": "python",
   "pygments_lexer": "ipython3",
   "version": "3.10.11"
  },
  "orig_nbformat": 4
 },
 "nbformat": 4,
 "nbformat_minor": 2
}
